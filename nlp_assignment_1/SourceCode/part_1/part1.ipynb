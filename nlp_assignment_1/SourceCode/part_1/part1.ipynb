{
 "cells": [
  {
   "cell_type": "code",
   "execution_count": 2,
   "metadata": {
    "executionInfo": {
     "elapsed": 4048,
     "status": "ok",
     "timestamp": 1604320422444,
     "user": {
      "displayName": "Shawn Chen",
      "photoUrl": "https://lh5.googleusercontent.com/-K-2N4FzP3ps/AAAAAAAAAAI/AAAAAAAACVg/V77Cm3VAsG8/s64/photo.jpg",
      "userId": "14192269276493206783"
     },
     "user_tz": -480
    },
    "id": "97vwN2VjPJwi"
   },
   "outputs": [],
   "source": [
    "#Import libraries\n",
    "import pandas as pd\n",
    "import matplotlib.pyplot as plt"
   ]
  },
  {
   "cell_type": "markdown",
   "metadata": {
    "id": "jhLXnDB5Jcwt"
   },
   "source": [
    "# Domain Specific Dataset Analysis"
   ]
  },
  {
   "cell_type": "markdown",
   "metadata": {
    "id": "yM8UAiwEJfPW"
   },
   "source": [
    "## 1. Domain: COVID-19 Research Article Abstracts\n",
    "Source: COVID-19 Open Research Dataset Challenge ([CORD-19](https://www.kaggle.com/allen-institute-for-ai/CORD-19-research-challenge)). \n",
    "\n",
    "CORD-19 is a resource of over 200,000 scholarly articles, including over 100,000 with full text, about COVID-19, SARS-CoV-2, and related coronaviruses. In this assignment, we will use the abstracts of these articles as a domain sepcific dataset for analysis."
   ]
  },
  {
   "cell_type": "code",
   "execution_count": 4,
   "metadata": {
    "colab": {
     "base_uri": "https://localhost:8080/"
    },
    "executionInfo": {
     "elapsed": 1727,
     "status": "ok",
     "timestamp": 1604320479568,
     "user": {
      "displayName": "Shawn Chen",
      "photoUrl": "https://lh5.googleusercontent.com/-K-2N4FzP3ps/AAAAAAAAAAI/AAAAAAAACVg/V77Cm3VAsG8/s64/photo.jpg",
      "userId": "14192269276493206783"
     },
     "user_tz": -480
    },
    "id": "d4hsxZveKw0A",
    "outputId": "95e6c9db-f730-4c7d-8fcb-3f844b91c758"
   },
   "outputs": [
    {
     "data": {
      "text/plain": [
       "array(['OBJECTIVE: This retrospective chart review describes the epidemiology and clinical features of 40 patients with culture-proven Mycoplasma pneumoniae infections at King Abdulaziz University Hospital, Jeddah, Saudi Arabia. METHODS: Patients with positive M. pneumoniae cultures from respiratory specimens from January 1997 through December 1998 were identified through the Microbiology records. Charts of patients were reviewed. RESULTS: 40 patients were identified, 33 (82.5%) of whom required admission. Most infections (92.5%) were community-acquired. The infection affected all age groups but was most common in infants (32.5%) and pre-school children (22.5%). It occurred year-round but was most common in the fall (35%) and spring (30%). More than three-quarters of patients (77.5%) had comorbidities. Twenty-four isolates (60%) were associated with pneumonia, 14 (35%) with upper respiratory tract infections, and 2 (5%) with bronchiolitis. Cough (82.5%), fever (75%), and malaise (58.8%) were the most common symptoms, and crepitations (60%), and wheezes (40%) were the most common signs. Most patients with pneumonia had crepitations (79.2%) but only 25% had bronchial breathing. Immunocompromised patients were more likely than non-immunocompromised patients to present with pneumonia (8/9 versus 16/31, P = 0.05). Of the 24 patients with pneumonia, 14 (58.3%) had uneventful recovery, 4 (16.7%) recovered following some complications, 3 (12.5%) died because of M pneumoniae infection, and 3 (12.5%) died due to underlying comorbidities. The 3 patients who died of M pneumoniae pneumonia had other comorbidities. CONCLUSION: our results were similar to published data except for the finding that infections were more common in infants and preschool children and that the mortality rate of pneumonia in patients with comorbidities was high.',\n",
       "       'Inflammatory diseases of the respiratory tract are commonly associated with elevated production of nitric oxide (NO•) and increased indices of NO• -dependent oxidative stress. Although NO• is known to have anti-microbial, anti-inflammatory and anti-oxidant properties, various lines of evidence support the contribution of NO• to lung injury in several disease models. On the basis of biochemical evidence, it is often presumed that such NO• -dependent oxidations are due to the formation of the oxidant peroxynitrite, although alternative mechanisms involving the phagocyte-derived heme proteins myeloperoxidase and eosinophil peroxidase might be operative during conditions of inflammation. Because of the overwhelming literature on NO• generation and activities in the respiratory tract, it would be beyond the scope of this commentary to review this area comprehensively. Instead, it focuses on recent evidence and concepts of the presumed contribution of NO• to inflammatory diseases of the lung.'],\n",
       "      dtype=object)"
      ]
     },
     "execution_count": 4,
     "metadata": {},
     "output_type": "execute_result"
    }
   ],
   "source": [
    "df1 = pd.read_csv('../datasets/CORD19/metadata_sample.csv', dtype=str)\n",
    "df1.head(2).abstract.values  #sample"
   ]
  },
  {
   "cell_type": "markdown",
   "metadata": {
    "id": "Dh1-kzACKrMR"
   },
   "source": [
    "### 1a.Tokenization and Stemming"
   ]
  },
  {
   "cell_type": "code",
   "execution_count": 5,
   "metadata": {
    "colab": {
     "base_uri": "https://localhost:8080/",
     "height": 70
    },
    "executionInfo": {
     "elapsed": 734,
     "status": "ok",
     "timestamp": 1603780593128,
     "user": {
      "displayName": "Shawn Chen",
      "photoUrl": "https://lh5.googleusercontent.com/-K-2N4FzP3ps/AAAAAAAAAAI/AAAAAAAACVg/V77Cm3VAsG8/s64/photo.jpg",
      "userId": "14192269276493206783"
     },
     "user_tz": -480
    },
    "id": "yt7dqL_vKt3t",
    "outputId": "28a3244d-5a34-4430-ed7a-806b6e470789"
   },
   "outputs": [
    {
     "name": "stderr",
     "output_type": "stream",
     "text": [
      "[nltk_data] Downloading package punkt to /home/shawn/nltk_data...\n",
      "[nltk_data]   Unzipping tokenizers/punkt.zip.\n"
     ]
    },
    {
     "data": {
      "text/plain": [
       "True"
      ]
     },
     "execution_count": 5,
     "metadata": {},
     "output_type": "execute_result"
    }
   ],
   "source": [
    "import nltk\n",
    "nltk.download('punkt')"
   ]
  },
  {
   "cell_type": "code",
   "execution_count": 6,
   "metadata": {
    "colab": {
     "base_uri": "https://localhost:8080/",
     "height": 188
    },
    "executionInfo": {
     "elapsed": 943,
     "status": "ok",
     "timestamp": 1603649747138,
     "user": {
      "displayName": "Shawn Chen",
      "photoUrl": "https://lh5.googleusercontent.com/-K-2N4FzP3ps/AAAAAAAAAAI/AAAAAAAACVg/V77Cm3VAsG8/s64/photo.jpg",
      "userId": "14192269276493206783"
     },
     "user_tz": -480
    },
    "id": "JpdzKty8RL8a",
    "outputId": "cdc4a87b-e938-4ce0-fd38-83c05348a65f"
   },
   "outputs": [
    {
     "data": {
      "text/plain": [
       "'OBJECTIVE|:|This|retrospective|chart|review|describes|the|epidemiology|and|clinical|features|of|40|patients|with|culture-proven|Mycoplasma|pneumoniae|infections|at|King|Abdulaziz|University|Hospital|,|Jeddah|,|Saudi|Arabia|.|METHODS|:|Patients|with|positive|M.|pneumoniae|cultures|from|respiratory|specimens|from|January|1997|through|December|1998|were|identified|through|the|Microbiology|records|.|Charts|of|patients|were|reviewed|.|RESULTS|:|40|patients|were|identified|,|33|(|82.5|%|)|of|whom|required|admission|.|Most|infections|(|92.5|%|)|were|community-acquired|.|The|infection|affected|all|age|groups|but|was|most|common|in|infants|(|32.5|%|)|and|pre-school|children|(|22.5|%|)|.|It|occurred|year-round|but|was|most|common|in|the|fall|(|35|%|)|and|spring|(|30|%|)|.|More|than|three-quarters|of|patients|(|77.5|%|)|had|comorbidities|.|Twenty-four|isolates|(|60|%|)|were|associated|with|pneumonia|,|14|(|35|%|)|with|upper|respiratory|tract|infections|,|and|2|(|5|%|)|with|bronchiolitis|.|Cough|(|82.5|%|)|,|fever|(|75|%|)|,|and|malaise|(|58.8|%|)|were|the|most|common|symptoms|,|and|crepitations|(|60|%|)|,|and|wheezes|(|40|%|)|were|the|most|common|signs|.|Most|patients|with|pneumonia|had|crepitations|(|79.2|%|)|but|only|25|%|had|bronchial|breathing|.|Immunocompromised|patients|were|more|likely|than|non-immunocompromised|patients|to|present|with|pneumonia|(|8/9|versus|16/31|,|P|=|0.05|)|.|Of|the|24|patients|with|pneumonia|,|14|(|58.3|%|)|had|uneventful|recovery|,|4|(|16.7|%|)|recovered|following|some|complications|,|3|(|12.5|%|)|died|because|of|M|pneumoniae|infection|,|and|3|(|12.5|%|)|died|due|to|underlying|comorbidities|.|The|3|patients|who|died|of|M|pneumoniae|pneumonia|had|other|comorbidities|.|CONCLUSION|:|our|results|were|similar|to|published|data|except|for|the|finding|that|infections|were|more|common|in|infants|and|preschool|children|and|that|the|mortality|rate|of|pneumonia|in|patients|with|comorbidities|was|high|.'"
      ]
     },
     "execution_count": 6,
     "metadata": {},
     "output_type": "execute_result"
    }
   ],
   "source": [
    "word_tokens = nltk.word_tokenize(df1.iloc[0].abstract)\n",
    "'|'.join(word_tokens)"
   ]
  },
  {
   "cell_type": "code",
   "execution_count": 7,
   "metadata": {
    "colab": {
     "base_uri": "https://localhost:8080/",
     "height": 35
    },
    "executionInfo": {
     "elapsed": 659,
     "status": "ok",
     "timestamp": 1603780598959,
     "user": {
      "displayName": "Shawn Chen",
      "photoUrl": "https://lh5.googleusercontent.com/-K-2N4FzP3ps/AAAAAAAAAAI/AAAAAAAACVg/V77Cm3VAsG8/s64/photo.jpg",
      "userId": "14192269276493206783"
     },
     "user_tz": -480
    },
    "id": "aZFPxz3jZSvh",
    "outputId": "64548218-08db-43ec-c02f-eaa2e8ad6af3"
   },
   "outputs": [
    {
     "data": {
      "text/plain": [
       "'object|:|this|retrospect|chart|review|describ|the|epidemiolog|and|clinic|featur|of|40|patient|with|culture-proven|mycoplasma|pneumonia|infect|at|king|abdulaziz|univers|hospit|,|jeddah|,|saudi|arabia|.|method|:|patient|with|posit|m.|pneumonia|cultur|from|respiratori|specimen|from|januari|1997|through|decemb|1998|were|identifi|through|the|microbiolog|record|.|chart|of|patient|were|review|.|result|:|40|patient|were|identifi|,|33|(|82.5|%|)|of|whom|requir|admiss|.|most|infect|(|92.5|%|)|were|community-acquir|.|the|infect|affect|all|age|group|but|was|most|common|in|infant|(|32.5|%|)|and|pre-school|children|(|22.5|%|)|.|it|occur|year-round|but|was|most|common|in|the|fall|(|35|%|)|and|spring|(|30|%|)|.|more|than|three-quart|of|patient|(|77.5|%|)|had|comorbid|.|twenty-four|isol|(|60|%|)|were|associ|with|pneumonia|,|14|(|35|%|)|with|upper|respiratori|tract|infect|,|and|2|(|5|%|)|with|bronchiol|.|cough|(|82.5|%|)|,|fever|(|75|%|)|,|and|malais|(|58.8|%|)|were|the|most|common|symptom|,|and|crepit|(|60|%|)|,|and|wheez|(|40|%|)|were|the|most|common|sign|.|most|patient|with|pneumonia|had|crepit|(|79.2|%|)|but|onli|25|%|had|bronchial|breath|.|immunocompromis|patient|were|more|like|than|non-immunocompromis|patient|to|present|with|pneumonia|(|8/9|versus|16/31|,|p|=|0.05|)|.|of|the|24|patient|with|pneumonia|,|14|(|58.3|%|)|had|unev|recoveri|,|4|(|16.7|%|)|recov|follow|some|complic|,|3|(|12.5|%|)|die|becaus|of|m|pneumonia|infect|,|and|3|(|12.5|%|)|die|due|to|under|comorbid|.|the|3|patient|who|die|of|m|pneumonia|pneumonia|had|other|comorbid|.|conclus|:|our|result|were|similar|to|publish|data|except|for|the|find|that|infect|were|more|common|in|infant|and|preschool|children|and|that|the|mortal|rate|of|pneumonia|in|patient|with|comorbid|was|high|.'"
      ]
     },
     "execution_count": 7,
     "metadata": {},
     "output_type": "execute_result"
    }
   ],
   "source": [
    "from nltk.stem.snowball import SnowballStemmer\n",
    "\n",
    "stemmer = SnowballStemmer(\"english\")\n",
    "stemmed = [stemmer.stem(word) for word in word_tokens]\n",
    "'|'.join(stemmed)"
   ]
  },
  {
   "cell_type": "code",
   "execution_count": 8,
   "metadata": {
    "id": "l_3NrJJzffRf"
   },
   "outputs": [],
   "source": [
    "def analyse_stem(stemmer, original_):\n",
    "  length_dist_original = []\n",
    "  length_dist_stemmed = []\n",
    "  for original in original_:\n",
    "    original = nltk.word_tokenize(original)\n",
    "    stemmed = [stemmer.stem(word) for word in original]\n",
    "    #print(\"Number of distinct tokens for original\", len(set(original)))\n",
    "    #print(\"Number of distinct tokens for stemmed\", len(set(stemmed)))\n",
    "    length_dist_original.extend([len(word) for word in original])\n",
    "    length_dist_stemmed.extend([len(word) for word in stemmed])\n",
    "\n",
    "  print(\"Original Average:\", sum(length_dist_original)/len(length_dist_original))\n",
    "  print(\"Stemmed Average:\", sum(length_dist_stemmed)/len(length_dist_stemmed))\n",
    "\n",
    "  plt.hist(length_dist_original, bins=20, alpha=0.5, label='original')\n",
    "  plt.hist(length_dist_stemmed, bins=20, alpha=0.5, label='stemmed')\n",
    "  plt.legend()\n",
    "  plt.xlabel('Length of a token in number of characters')\n",
    "  plt.ylabel('Number of tokens')   \n",
    "  plt.title('Effect of stemming on CORD-19 tokens')"
   ]
  },
  {
   "cell_type": "code",
   "execution_count": 9,
   "metadata": {
    "id": "X3h6SjvN1wmL"
   },
   "outputs": [],
   "source": [
    "all_tokens=[]\n",
    "for index, row in df1.iterrows():\n",
    "  all_tokens.append(row.abstract)"
   ]
  },
  {
   "cell_type": "code",
   "execution_count": 10,
   "metadata": {
    "colab": {
     "base_uri": "https://localhost:8080/",
     "height": 329
    },
    "executionInfo": {
     "elapsed": 1143,
     "status": "ok",
     "timestamp": 1603700799088,
     "user": {
      "displayName": "Shawn Chen",
      "photoUrl": "https://lh5.googleusercontent.com/-K-2N4FzP3ps/AAAAAAAAAAI/AAAAAAAACVg/V77Cm3VAsG8/s64/photo.jpg",
      "userId": "14192269276493206783"
     },
     "user_tz": -480
    },
    "id": "mskuRSQxhnv0",
    "outputId": "175f5514-a1e9-4dcb-d25f-15ebaf83f40e"
   },
   "outputs": [
    {
     "name": "stdout",
     "output_type": "stream",
     "text": [
      "Original Average: 5.203850210970464\n",
      "Stemmed Average: 4.453059071729958\n"
     ]
    },
    {
     "data": {
      "image/png": "[encoded data removed]",
      "text/plain": [
       "<Figure size 432x288 with 1 Axes>"
      ]
     },
     "metadata": {
      "needs_background": "light"
     },
     "output_type": "display_data"
    }
   ],
   "source": [
    "analyse_stem(stemmer, all_tokens)"
   ]
  },
  {
   "cell_type": "markdown",
   "metadata": {
    "id": "t1kAEzlPksAi"
   },
   "source": [
    "### 1b. Sentence Segmentation"
   ]
  },
  {
   "cell_type": "code",
   "execution_count": 11,
   "metadata": {
    "id": "hJkJYsg9kwn-"
   },
   "outputs": [],
   "source": [
    "sent_tokens = nltk.sent_tokenize(df1.iloc[0].abstract)"
   ]
  },
  {
   "cell_type": "code",
   "execution_count": 12,
   "metadata": {
    "colab": {
     "base_uri": "https://localhost:8080/",
     "height": 34
    },
    "executionInfo": {
     "elapsed": 854,
     "status": "ok",
     "timestamp": 1603005903157,
     "user": {
      "displayName": "Shawn Chen",
      "photoUrl": "https://lh5.googleusercontent.com/-K-2N4FzP3ps/AAAAAAAAAAI/AAAAAAAACVg/V77Cm3VAsG8/s64/photo.jpg",
      "userId": "14192269276493206783"
     },
     "user_tz": -480
    },
    "id": "tpnauWGjlEP0",
    "outputId": "cd48004d-b3d3-4da8-a763-61cc16d91ab8"
   },
   "outputs": [
    {
     "data": {
      "text/plain": [
       "[31, 24, 6, 17, 9, 24, 21, 12, 31, 43, 18, 22, 50, 13, 37]"
      ]
     },
     "execution_count": 12,
     "metadata": {},
     "output_type": "execute_result"
    }
   ],
   "source": [
    "[len(nltk.word_tokenize(sent_token)) for sent_token in sent_tokens]"
   ]
  },
  {
   "cell_type": "markdown",
   "metadata": {
    "id": "wJjyeFT_m9-d"
   },
   "source": [
    "### 1c. POS Tagging"
   ]
  },
  {
   "cell_type": "code",
   "execution_count": 13,
   "metadata": {
    "colab": {
     "base_uri": "https://localhost:8080/",
     "height": 87
    },
    "executionInfo": {
     "elapsed": 872,
     "status": "ok",
     "timestamp": 1603780613956,
     "user": {
      "displayName": "Shawn Chen",
      "photoUrl": "https://lh5.googleusercontent.com/-K-2N4FzP3ps/AAAAAAAAAAI/AAAAAAAACVg/V77Cm3VAsG8/s64/photo.jpg",
      "userId": "14192269276493206783"
     },
     "user_tz": -480
    },
    "id": "oHVrSqVAnPc3",
    "outputId": "2a579d50-374f-4ab8-d948-c614e04b675e"
   },
   "outputs": [
    {
     "name": "stderr",
     "output_type": "stream",
     "text": [
      "[nltk_data] Downloading package averaged_perceptron_tagger to\n",
      "[nltk_data]     /home/shawn/nltk_data...\n",
      "[nltk_data]   Unzipping taggers/averaged_perceptron_tagger.zip.\n"
     ]
    },
    {
     "data": {
      "text/plain": [
       "True"
      ]
     },
     "execution_count": 13,
     "metadata": {},
     "output_type": "execute_result"
    }
   ],
   "source": [
    "nltk.download('averaged_perceptron_tagger')"
   ]
  },
  {
   "cell_type": "code",
   "execution_count": 14,
   "metadata": {
    "colab": {
     "base_uri": "https://localhost:8080/",
     "height": 555
    },
    "executionInfo": {
     "elapsed": 1024,
     "status": "ok",
     "timestamp": 1603006661819,
     "user": {
      "displayName": "Shawn Chen",
      "photoUrl": "https://lh5.googleusercontent.com/-K-2N4FzP3ps/AAAAAAAAAAI/AAAAAAAACVg/V77Cm3VAsG8/s64/photo.jpg",
      "userId": "14192269276493206783"
     },
     "user_tz": -480
    },
    "id": "Cn0z-Z8Mlb_5",
    "outputId": "fc639a71-624b-4e44-b2eb-d99347961d01"
   },
   "outputs": [
    {
     "data": {
      "text/plain": [
       "[('OBJECTIVE', 'NN'),\n",
       " (':', ':'),\n",
       " ('This', 'DT'),\n",
       " ('retrospective', 'JJ'),\n",
       " ('chart', 'NN'),\n",
       " ('review', 'NN'),\n",
       " ('describes', 'VBZ'),\n",
       " ('the', 'DT'),\n",
       " ('epidemiology', 'NN'),\n",
       " ('and', 'CC'),\n",
       " ('clinical', 'JJ'),\n",
       " ('features', 'NNS'),\n",
       " ('of', 'IN'),\n",
       " ('40', 'CD'),\n",
       " ('patients', 'NNS'),\n",
       " ('with', 'IN'),\n",
       " ('culture-proven', 'JJ'),\n",
       " ('Mycoplasma', 'NNP'),\n",
       " ('pneumoniae', 'NN'),\n",
       " ('infections', 'NNS'),\n",
       " ('at', 'IN'),\n",
       " ('King', 'NNP'),\n",
       " ('Abdulaziz', 'NNP'),\n",
       " ('University', 'NNP'),\n",
       " ('Hospital', 'NNP'),\n",
       " (',', ','),\n",
       " ('Jeddah', 'NNP'),\n",
       " (',', ','),\n",
       " ('Saudi', 'NNP'),\n",
       " ('Arabia', 'NNP'),\n",
       " ('.', '.')]"
      ]
     },
     "execution_count": 14,
     "metadata": {},
     "output_type": "execute_result"
    }
   ],
   "source": [
    "word_tokens = nltk.word_tokenize(sent_tokens[0])\n",
    "nltk.pos_tag(word_tokens)"
   ]
  },
  {
   "cell_type": "markdown",
   "metadata": {
    "id": "tBKMhax-spwW"
   },
   "source": [
    "##2. Domain: Wikipedia Math Equations"
   ]
  },
  {
   "cell_type": "markdown",
   "metadata": {
    "id": "hz3k2pbqs-gh"
   },
   "source": [
    " Source: AsciiMath Equations Collected From Wikipedia. The [dataset](https://www.kaggle.com/finalepoch/asciimath-equations-collected-from-wikipedia) contains collection of simple equations written in AsciiMath. "
   ]
  },
  {
   "cell_type": "code",
   "execution_count": 15,
   "metadata": {
    "executionInfo": {
     "elapsed": 2282,
     "status": "ok",
     "timestamp": 1604320621066,
     "user": {
      "displayName": "Shawn Chen",
      "photoUrl": "https://lh5.googleusercontent.com/-K-2N4FzP3ps/AAAAAAAAAAI/AAAAAAAACVg/V77Cm3VAsG8/s64/photo.jpg",
      "userId": "14192269276493206783"
     },
     "user_tz": -480
    },
    "id": "kqHTLqKIs43g"
   },
   "outputs": [],
   "source": [
    "df2 = pd.read_csv(\"../datasets/asciimath/math_eqn.csv\", dtype=str)"
   ]
  },
  {
   "cell_type": "code",
   "execution_count": 16,
   "metadata": {
    "colab": {
     "base_uri": "https://localhost:8080/",
     "height": 206
    },
    "executionInfo": {
     "elapsed": 1430,
     "status": "ok",
     "timestamp": 1604320634050,
     "user": {
      "displayName": "Shawn Chen",
      "photoUrl": "https://lh5.googleusercontent.com/-K-2N4FzP3ps/AAAAAAAAAAI/AAAAAAAACVg/V77Cm3VAsG8/s64/photo.jpg",
      "userId": "14192269276493206783"
     },
     "user_tz": -480
    },
    "id": "IG63b9lwayLN",
    "outputId": "ffd0d067-85b2-4026-9da1-fef0f8ecfc32"
   },
   "outputs": [
    {
     "data": {
      "text/html": [
       "<div>\n",
       "<style scoped>\n",
       "    .dataframe tbody tr th:only-of-type {\n",
       "        vertical-align: middle;\n",
       "    }\n",
       "\n",
       "    .dataframe tbody tr th {\n",
       "        vertical-align: top;\n",
       "    }\n",
       "\n",
       "    .dataframe thead th {\n",
       "        text-align: right;\n",
       "    }\n",
       "</style>\n",
       "<table border=\"1\" class=\"dataframe\">\n",
       "  <thead>\n",
       "    <tr style=\"text-align: right;\">\n",
       "      <th></th>\n",
       "      <th>Math_Eqns</th>\n",
       "    </tr>\n",
       "  </thead>\n",
       "  <tbody>\n",
       "    <tr>\n",
       "      <th>0</th>\n",
       "      <td>e^{2}\\frac{b_0-\\sin v}{R}</td>\n",
       "    </tr>\n",
       "    <tr>\n",
       "      <th>1</th>\n",
       "      <td>f_N, f_{N+1},f_{N+2},\\ldots</td>\n",
       "    </tr>\n",
       "    <tr>\n",
       "      <th>2</th>\n",
       "      <td>\\textstyle{\\sum_{n=1}^\\infty f_n(x,\\phi,\\psi)}</td>\n",
       "    </tr>\n",
       "    <tr>\n",
       "      <th>3</th>\n",
       "      <td>\\underset{n\\to\\infty}{\\mathrm{unif\\ lim}}f_n = f</td>\n",
       "    </tr>\n",
       "    <tr>\n",
       "      <th>4</th>\n",
       "      <td>x\\in E, m\\geq N,n\\geq N\\implies |f_m(x)-f_n(x)...</td>\n",
       "    </tr>\n",
       "  </tbody>\n",
       "</table>\n",
       "</div>"
      ],
      "text/plain": [
       "                                           Math_Eqns\n",
       "0                          e^{2}\\frac{b_0-\\sin v}{R}\n",
       "1                        f_N, f_{N+1},f_{N+2},\\ldots\n",
       "2     \\textstyle{\\sum_{n=1}^\\infty f_n(x,\\phi,\\psi)}\n",
       "3   \\underset{n\\to\\infty}{\\mathrm{unif\\ lim}}f_n = f\n",
       "4  x\\in E, m\\geq N,n\\geq N\\implies |f_m(x)-f_n(x)..."
      ]
     },
     "execution_count": 16,
     "metadata": {},
     "output_type": "execute_result"
    }
   ],
   "source": [
    "df2.head(5)"
   ]
  },
  {
   "cell_type": "markdown",
   "metadata": {
    "id": "aPhr9NM217v4"
   },
   "source": [
    "### 2a. Tokenization and Stemming"
   ]
  },
  {
   "cell_type": "code",
   "execution_count": 17,
   "metadata": {
    "colab": {
     "base_uri": "https://localhost:8080/",
     "height": 35
    },
    "executionInfo": {
     "elapsed": 918,
     "status": "ok",
     "timestamp": 1603693033060,
     "user": {
      "displayName": "Shawn Chen",
      "photoUrl": "https://lh5.googleusercontent.com/-K-2N4FzP3ps/AAAAAAAAAAI/AAAAAAAACVg/V77Cm3VAsG8/s64/photo.jpg",
      "userId": "14192269276493206783"
     },
     "user_tz": -480
    },
    "id": "_d49BrSign_O",
    "outputId": "2f485fb6-ffb9-4173-8570-248c7b637461"
   },
   "outputs": [
    {
     "data": {
      "text/plain": [
       "'x\\\\in E, m\\\\geq N,n\\\\geq N\\\\implies |f_m(x)-f_n(x)|&lt;\\\\epsilon'"
      ]
     },
     "execution_count": 17,
     "metadata": {},
     "output_type": "execute_result"
    }
   ],
   "source": [
    "df2.Math_Eqns.values[4]"
   ]
  },
  {
   "cell_type": "code",
   "execution_count": 18,
   "metadata": {
    "colab": {
     "base_uri": "https://localhost:8080/",
     "height": 35
    },
    "executionInfo": {
     "elapsed": 1059,
     "status": "ok",
     "timestamp": 1603693048505,
     "user": {
      "displayName": "Shawn Chen",
      "photoUrl": "https://lh5.googleusercontent.com/-K-2N4FzP3ps/AAAAAAAAAAI/AAAAAAAACVg/V77Cm3VAsG8/s64/photo.jpg",
      "userId": "14192269276493206783"
     },
     "user_tz": -480
    },
    "id": "hjd9DA8hxvEE",
    "outputId": "73639047-8c04-4fcb-cce5-0bca415d8844"
   },
   "outputs": [
    {
     "data": {
      "text/plain": [
       "'x\\\\in   E   ,   m\\\\geq   N   ,   n\\\\geq   N\\\\implies   |f_m   (   x   )   -f_n   (   x   )   |   &   lt   ;   \\\\epsilon'"
      ]
     },
     "execution_count": 18,
     "metadata": {},
     "output_type": "execute_result"
    }
   ],
   "source": [
    "word_tokens = nltk.word_tokenize(df2.Math_Eqns.values[4])\n",
    "\"   \".join(word_tokens)"
   ]
  },
  {
   "cell_type": "code",
   "execution_count": 19,
   "metadata": {
    "id": "U7aNSpcobfDQ"
   },
   "outputs": [],
   "source": [
    "all_tokens=[]\n",
    "for index, row in df2.iterrows():\n",
    "  all_tokens.append(row.Math_Eqns)"
   ]
  },
  {
   "cell_type": "code",
   "execution_count": 20,
   "metadata": {
    "colab": {
     "base_uri": "https://localhost:8080/",
     "height": 329
    },
    "executionInfo": {
     "elapsed": 1628,
     "status": "ok",
     "timestamp": 1603700842148,
     "user": {
      "displayName": "Shawn Chen",
      "photoUrl": "https://lh5.googleusercontent.com/-K-2N4FzP3ps/AAAAAAAAAAI/AAAAAAAACVg/V77Cm3VAsG8/s64/photo.jpg",
      "userId": "14192269276493206783"
     },
     "user_tz": -480
    },
    "id": "fB2wR9T-1jzl",
    "outputId": "1835137d-bc3c-404a-879a-6ab638b3a5d8"
   },
   "outputs": [
    {
     "name": "stdout",
     "output_type": "stream",
     "text": [
      "Original Average: 2.6276923076923078\n",
      "Stemmed Average: 2.606153846153846\n"
     ]
    },
    {
     "data": {
      "image/png": "[encoded data removed]",
      "text/plain": [
       "<Figure size 432x288 with 1 Axes>"
      ]
     },
     "metadata": {
      "needs_background": "light"
     },
     "output_type": "display_data"
    }
   ],
   "source": [
    "analyse_stem(stemmer, all_tokens)"
   ]
  },
  {
   "cell_type": "markdown",
   "metadata": {
    "id": "O2YU8fww4Ix4"
   },
   "source": [
    "### 2b. Sentence Segmentation"
   ]
  },
  {
   "cell_type": "code",
   "execution_count": 22,
   "metadata": {},
   "outputs": [],
   "source": [
    "sent_tokens = nltk.sent_tokenize(df2.iloc[0].Math_Eqns)"
   ]
  },
  {
   "cell_type": "code",
   "execution_count": 23,
   "metadata": {},
   "outputs": [
    {
     "data": {
      "text/plain": [
       "[12]"
      ]
     },
     "execution_count": 23,
     "metadata": {},
     "output_type": "execute_result"
    }
   ],
   "source": [
    "[len(nltk.word_tokenize(sent_token)) for sent_token in sent_tokens]"
   ]
  },
  {
   "cell_type": "markdown",
   "metadata": {
    "id": "2Y65BCLm4URK"
   },
   "source": [
    "### 2c. POS Tagging"
   ]
  },
  {
   "cell_type": "code",
   "execution_count": 24,
   "metadata": {
    "colab": {
     "base_uri": "https://localhost:8080/",
     "height": 35
    },
    "executionInfo": {
     "elapsed": 693,
     "status": "ok",
     "timestamp": 1603787259284,
     "user": {
      "displayName": "Shawn Chen",
      "photoUrl": "https://lh5.googleusercontent.com/-K-2N4FzP3ps/AAAAAAAAAAI/AAAAAAAACVg/V77Cm3VAsG8/s64/photo.jpg",
      "userId": "14192269276493206783"
     },
     "user_tz": -480
    },
    "id": "mTYWdlJVGxOQ",
    "outputId": "548d0602-f99b-4e6f-e54a-0967fe071f6d"
   },
   "outputs": [
    {
     "data": {
      "text/plain": [
       "'Heme oxygenase-1 (HO-1), an inducible stress protein, confers cytoprotection against oxidative stress in vitro and in vivo.'"
      ]
     },
     "execution_count": 24,
     "metadata": {},
     "output_type": "execute_result"
    }
   ],
   "source": [
    "nltk.sent_tokenize(df1.iloc[8].abstract)[0]"
   ]
  },
  {
   "cell_type": "code",
   "execution_count": 25,
   "metadata": {
    "colab": {
     "base_uri": "https://localhost:8080/",
     "height": 35
    },
    "executionInfo": {
     "elapsed": 674,
     "status": "ok",
     "timestamp": 1603788745020,
     "user": {
      "displayName": "Shawn Chen",
      "photoUrl": "https://lh5.googleusercontent.com/-K-2N4FzP3ps/AAAAAAAAAAI/AAAAAAAACVg/V77Cm3VAsG8/s64/photo.jpg",
      "userId": "14192269276493206783"
     },
     "user_tz": -480
    },
    "id": "MVHwBc3LQiOA",
    "outputId": "23d43678-314d-4cd5-a3e7-b1291e13bcaa"
   },
   "outputs": [
    {
     "data": {
      "text/plain": [
       "'d_i := \\\\min\\\\{\\\\|x_0 - \\\\frac{k_i}{i}|,\\\\ |x_0 - \\\\frac{(k_i + 1)}{i}| \\\\}'"
      ]
     },
     "execution_count": 25,
     "metadata": {},
     "output_type": "execute_result"
    }
   ],
   "source": [
    "nltk.sent_tokenize(df2.iloc[17].Math_Eqns)[0]"
   ]
  },
  {
   "cell_type": "code",
   "execution_count": 26,
   "metadata": {
    "colab": {
     "base_uri": "https://localhost:8080/",
     "height": 603
    },
    "executionInfo": {
     "elapsed": 717,
     "status": "ok",
     "timestamp": 1603788706424,
     "user": {
      "displayName": "Shawn Chen",
      "photoUrl": "https://lh5.googleusercontent.com/-K-2N4FzP3ps/AAAAAAAAAAI/AAAAAAAACVg/V77Cm3VAsG8/s64/photo.jpg",
      "userId": "14192269276493206783"
     },
     "user_tz": -480
    },
    "id": "_2P3vk0j4Z6t",
    "outputId": "133489f2-5d3a-4fe3-de3a-cd5c8dd9a5c8"
   },
   "outputs": [
    {
     "data": {
      "text/plain": [
       "[('d_i', 'NN'),\n",
       " (':', ':'),\n",
       " ('=', 'JJ'),\n",
       " ('\\\\min\\\\', 'NNP'),\n",
       " ('{', '('),\n",
       " ('\\\\|x_0', 'SYM'),\n",
       " ('-', ':'),\n",
       " ('\\\\frac', 'NN'),\n",
       " ('{', '('),\n",
       " ('k_i', 'VB'),\n",
       " ('}', ')'),\n",
       " ('{', '('),\n",
       " ('i', 'JJ'),\n",
       " ('}', ')'),\n",
       " ('|', 'NN'),\n",
       " (',', ','),\n",
       " ('\\\\', 'NNP'),\n",
       " ('|x_0', 'NNP'),\n",
       " ('-', ':'),\n",
       " ('\\\\frac', 'NN'),\n",
       " ('{', '('),\n",
       " ('(', '('),\n",
       " ('k_i', 'VB'),\n",
       " ('+', 'RB'),\n",
       " ('1', 'CD'),\n",
       " (')', ')'),\n",
       " ('}', ')'),\n",
       " ('{', '('),\n",
       " ('i', 'JJ'),\n",
       " ('}', ')'),\n",
       " ('|', 'VBP'),\n",
       " ('\\\\', 'JJ'),\n",
       " ('}', ')')]"
      ]
     },
     "execution_count": 26,
     "metadata": {},
     "output_type": "execute_result"
    }
   ],
   "source": [
    "word_tokens = nltk.word_tokenize(nltk.sent_tokenize(df2.iloc[17].Math_Eqns)[0])\n",
    "nltk.pos_tag(word_tokens)"
   ]
  },
  {
   "cell_type": "markdown",
   "metadata": {
    "id": "95_XNVUB-z1C"
   },
   "source": [
    "## 3. Domain: World Financial News"
   ]
  },
  {
   "cell_type": "code",
   "execution_count": 41,
   "metadata": {
    "colab": {
     "base_uri": "https://localhost:8080/"
    },
    "executionInfo": {
     "elapsed": 2448,
     "status": "ok",
     "timestamp": 1604321280946,
     "user": {
      "displayName": "Shawn Chen",
      "photoUrl": "https://lh5.googleusercontent.com/-K-2N4FzP3ps/AAAAAAAAAAI/AAAAAAAACVg/V77Cm3VAsG8/s64/photo.jpg",
      "userId": "14192269276493206783"
     },
     "user_tz": -480
    },
    "id": "nST4oKjt_AF5",
    "outputId": "627ca460-a440-4fc8-a2c5-62831aa2e256"
   },
   "outputs": [
    {
     "name": "stderr",
     "output_type": "stream",
     "text": [
      "b'Skipping line 731: expected 8 fields, saw 13\\nSkipping line 2836: expected 8 fields, saw 15\\nSkipping line 3058: expected 8 fields, saw 12\\nSkipping line 3113: expected 8 fields, saw 12\\nSkipping line 3194: expected 8 fields, saw 17\\nSkipping line 3205: expected 8 fields, saw 17\\nSkipping line 3255: expected 8 fields, saw 17\\nSkipping line 3520: expected 8 fields, saw 17\\nSkipping line 4078: expected 8 fields, saw 17\\nSkipping line 4087: expected 8 fields, saw 17\\nSkipping line 4088: expected 8 fields, saw 17\\nSkipping line 4499: expected 8 fields, saw 12\\n'\n"
     ]
    }
   ],
   "source": [
    "financial_tweets = pd.read_csv('../datasets/financialtweets/stockerbot-export.csv', dtype=str,warn_bad_lines=True, error_bad_lines=False)"
   ]
  },
  {
   "cell_type": "code",
   "execution_count": 42,
   "metadata": {
    "colab": {
     "base_uri": "https://localhost:8080/"
    },
    "executionInfo": {
     "elapsed": 1070,
     "status": "ok",
     "timestamp": 1604321393088,
     "user": {
      "displayName": "Shawn Chen",
      "photoUrl": "https://lh5.googleusercontent.com/-K-2N4FzP3ps/AAAAAAAAAAI/AAAAAAAACVg/V77Cm3VAsG8/s64/photo.jpg",
      "userId": "14192269276493206783"
     },
     "user_tz": -480
    },
    "id": "TEtb2UNzAYmt",
    "outputId": "fa2851b6-b01e-4939-eeed-73164d0e463b"
   },
   "outputs": [
    {
     "data": {
      "text/plain": [
       "0      VIDEO: “I was in my office. I was minding my o...\n",
       "1      The price of lumber $LB_F is down 22% since hi...\n",
       "2      Who says the American Dream is dead? https://t...\n",
       "3      Barry Silbert is extremely optimistic on bitco...\n",
       "4      How satellites avoid attacks and space junk wh...\n",
       "                             ...                        \n",
       "145    Mettler-Toledo International $MTD &amp; Quante...\n",
       "146    RT @beep_eminent: $EMN Eminent Token FUEL for ...\n",
       "147    RT @beep_eminent: The $EMN EMINENT token which...\n",
       "148    Head-To-Head Comparison: Quanterix $QTRX vs. M...\n",
       "149    Nuance Communications $NUAN Upgraded by ValuEn...\n",
       "Name: text, Length: 150, dtype: object"
      ]
     },
     "execution_count": 42,
     "metadata": {},
     "output_type": "execute_result"
    }
   ],
   "source": [
    "df3 = financial_tweets['text'].head(150)\n",
    "df3"
   ]
  },
  {
   "cell_type": "markdown",
   "metadata": {
    "id": "-QX6u7gJtCCA"
   },
   "source": [
    "### 3a. Tokenization and Stemming"
   ]
  },
  {
   "cell_type": "code",
   "execution_count": 29,
   "metadata": {
    "colab": {
     "base_uri": "https://localhost:8080/"
    },
    "executionInfo": {
     "elapsed": 3557,
     "status": "ok",
     "timestamp": 1604321331298,
     "user": {
      "displayName": "Shawn Chen",
      "photoUrl": "https://lh5.googleusercontent.com/-K-2N4FzP3ps/AAAAAAAAAAI/AAAAAAAACVg/V77Cm3VAsG8/s64/photo.jpg",
      "userId": "14192269276493206783"
     },
     "user_tz": -480
    },
    "id": "pca0zfpqZi5k",
    "outputId": "c5d50bca-7e34-4ab2-c3d2-9d480cd1accc"
   },
   "outputs": [
    {
     "name": "stderr",
     "output_type": "stream",
     "text": [
      "[nltk_data] Downloading package punkt to /home/shawn/nltk_data...\n",
      "[nltk_data]   Package punkt is already up-to-date!\n"
     ]
    },
    {
     "data": {
      "text/plain": [
       "True"
      ]
     },
     "execution_count": 29,
     "metadata": {},
     "output_type": "execute_result"
    }
   ],
   "source": [
    "import nltk\n",
    "nltk.download('punkt')"
   ]
  },
  {
   "cell_type": "code",
   "execution_count": 30,
   "metadata": {
    "colab": {
     "base_uri": "https://localhost:8080/",
     "height": 106
    },
    "executionInfo": {
     "elapsed": 1154,
     "status": "ok",
     "timestamp": 1604321399826,
     "user": {
      "displayName": "Shawn Chen",
      "photoUrl": "https://lh5.googleusercontent.com/-K-2N4FzP3ps/AAAAAAAAAAI/AAAAAAAACVg/V77Cm3VAsG8/s64/photo.jpg",
      "userId": "14192269276493206783"
     },
     "user_tz": -480
    },
    "id": "sy4TV4_-tCCC",
    "outputId": "9467c4ce-0d9c-439a-ae73-9340bb7e32f0"
   },
   "outputs": [
    {
     "data": {
      "text/plain": [
       "\"VIDEO|:|“|I|was|in|my|office|.|I|was|minding|my|own|business|...|”|–David|Solomon|tells|$|GS|interns|how|he|learned|he|wa…|https|:|//t.co/QClAITywXV|The|price|of|lumber|$|LB_F|is|down|22|%|since|hitting|its|YTD|highs|.|The|Macy|'s|$|M|turnaround|is|still|happening.…|https|:|//t.co/XnKsV4De39|Who|says|the|American|Dream|is|dead|?|https|:|//t.co/CRgx19x7sA|Barry|Silbert|is|extremely|optimistic|on|bitcoin|--|but|predicts|that|99|%|of|new|crypto|entrants|are|“|going|to|zero…|https|:|//t.co/mGMVo2cZgY|How|satellites|avoid|attacks|and|space|junk|while|circling|the|Earth|https|:|//t.co/aHzIV3Lqp5|#|paid|@|Oracle|https|:|//t.co/kacpqZWiDJ|.|@|RealMoney|'s|David|Butler|'s|favorite|FANG|stock|is|n't|#|RealMoneySOD|Alphabet|but|Facebook|https|:|//t.co/MczAPSFjOi|Don|’|t|miss|my|convo|with|one|of|my|favorite|thinkers|@|SamHarrisOrg|!|https|:|//t.co/uuPVxIobCh|U.S.|intelligence|documents|on|Nelson|Mandela|made|public|https|:|//t.co/XTnEfo1rO6|https|:|//t.co/V8DXkWDQ6R|Senate|wants|emergency|alerts|to|go|out|through|Netflix|Spotify|etc|.|https|:|//t.co/23yy3whBlc|by|@|grg|Hedge|fund|manager|Marc|Larsy|says|bitcoin|$|40K|is|possible|https|:|//t.co/54uPe0OWqT|U.S.|proposes|expedited|appeal|in|fight|with|AT|&|amp|;|T|over|Time|Warner|purchase|https|:|//t.co/BtjhzdE3Nu|https|:|//t.co/Gh32ZJ4vPO|Roger|Federer|'s|Uniqlo|deal|makes|him|one|of|the|few|athletes|to|earn|more|than|$|70M|from|endorsements…|https|:|//t.co/jQ8sOAyeBQ|Bond|traders|are|ahead|of|Jerome|Powell|when|it|comes|to|inflation|expectations|https|:|//t.co/DkdZLcy3mT|via…|https|:|//t.co/UCX7EiHP4r|Alcoa|cuts|adjusted|EBITDA|forecast|citing|tariffs|shares|slide|https|:|//t.co/mdMJXjnYIs|https|:|//t.co/5O8fvwlHpY|Customers|urge|boycott|of|MGM|Resorts|after|the|casino|files|lawsuits|against|mass|shooting|victims…|https|:|//t.co/dAhk87dPmA|The|gap|tightens|in|the|race|to|a|trillion|dollar|valuation|as|Amazon|hits|$|900|billion|https|:|//t.co/zjzm25Aglq|via…|https|:|//t.co/difuFt6sGp|President|Trump|endorses|Brian|Kemp|over|Casey|Cagle|in|Georgia|governor|’|s|race|https|:|//t.co/VhgN5rNRAW|White|House|struggles|to|contain|fallout|from|Trump-Putin|summit|https|:|//t.co/NtzACHJibs|https|:|//t.co/fLshAUDRzs|Lakers|guard|Hart|named|summer|league|MVP|and|more|U.S.|sports|headlines|https|:|//t.co/RVryAQdPqd|https|:|//t.co/r5x71iFFSL|Only|two|northern|white|rhinos|still|exist|making|it|the|world|'s|most|endangered|subspecies|of|mammal|https|:|//t.co/WeJufervx6|Trump|tells|CBS|he|'s|``|always|wanted|''|to|be|interviewed|by|Special|Counsel|Mueller|but|deflected|questions|on|whethe…|https|:|//t.co/at43BIGpDh|Templeton|and|BlackRock|say|now|'s|the|time|to|buy|emerging|markets|https|:|//t.co/h4z90nxqwH|https|:|//t.co/6FkVrZlu3j|Charts|say|#|RealMoneySOD|$|GOOGL|could|rise|17|%|or|more|from|here|:|@|BruceKamich|https|:|//t.co/cZbRY4daHN|EBay|revenue|misses|as|weak|U.S.|sporting|season|hits|StubHub|https|:|//t.co/3RdnkMVUn8|https|:|//t.co/N6iXpxEZjG|New|York|City|will|force|Airbnb|to|disclose|information|on|its|hosts|https|:|//t.co/jdq88zBMGR|https|:|//t.co/9SPvNk6cVU|RT|@|josheidelson|:|Exclusive|:|Elon|Musk|called|Sierra|Club|'s|executive|director|Saturday|and|``|asked|for|some|help|via|Twitter|''|the|green|gr…|New|time|:|Janet|Yellen|and|I|in|conversation|at|Brookings|on|Feb.|27|at|2|PM|EST|.|Join|us|online|or|on|Facebook|Liv…|https|:|//t.co/hDg7X5Rc5P|The|robot|homie|R2-D2|told|me|to|buy|sell|and|hold|Fidelity|National|Information|Services|$|FIS|#|BullMarket|Arthur|J|Gallagher|&|amp|;|Co|$|AJG|vs.|Marsh|&|amp|;|McLennan|Companies|$|MMC|Critical|Contrast|https|:|//t.co/aETTR2nZEq|Arthur|J|Gallagher|&|amp|;|Co|$|AJG|vs.|Marsh|&|amp|;|McLennan|Companies|$|MMC|Critical|Contrast|https|:|//t.co/CDjCvAKg5D|$|INFO|$|C|Asia|Stocks|Signal|Gains|;|Dollar|Weakness|Watched|:|Markets|Wrap|via|https|:|//t.co/jURZDymPXI|RT|@|dailypoliticaln|:|Fluor|Co.|$|NEW|$|FLR|Stock|Rating|Upgraded|by|Zacks|Investment|Research|https|:|//t.co/bpNgSoZjMH|Avery|Dennison|Corporation|$|AVY|EPS|Estimated|At|$|1.56|-|https|:|//t.co/YgOBsCXV2k|What|'s|shaking|guys|?|Inflation|&|amp|;|bank|earnings|are|some|of|your|market|shakers|this|week|:|https|:|//t.co/zUj03RrzaF…|https|:|//t.co/cEWyQtbwVs|EPS|for|Avery|Dennison|Corporation|$|AVY|Expected|At|$|1.56|https|:|//t.co/JgH1US4tJT|Avery|Dennison|Corporation|$|AVY|EPS|Estimated|At|$|1.56|-|https|:|//t.co/TGdsFYlo7V|RT|@|oliviabvoz|:|What|'s|shaking|guys|?|Inflation|&|amp|;|bank|earnings|are|some|of|your|market|shakers|this|week|:|https|:|//t.co/zUj03RrzaF|$|PEP|$|FST…|Do|you|know|that|#|Book|Value|for|$|XYL|is|$|13.92|https|:|//t.co/P8NnY8vkF6|Do|you|know|that|#|WallStreet|price|for|$|IRM|is|$|38.83|https|:|//t.co/K8TFsUFESC|Wondering|about|risks|of|$|IRM|?|The|21-day|volatility|is|4.12|%|https|:|//t.co/6KpJaP4fac|$|ORLY|Max|Pain=280.00|.|Maturity=07/20/2018|.|#|maxpain|#|options|https|:|//t.co/E1QxoAmxz0|https|:|//t.co/SIIeXlCE1t|$|AVB|Max|Pain=170.00|.|Maturity=07/20/2018|.|#|maxpain|#|options|https|:|//t.co/YSw8y4pvl1|https|:|//t.co/55GYLNJKC1|$|CUBE|$|EXR|$|HOG|$|KO|$|LSI|$|PSA|$|IRM|https|:|//t.co/n2jGUHZqx1|MTTS|WEEKLY|WATCHLIST|FOR|JULY|9TH|2018|$|CXO|$|HP|$|RSPP|https|:|//t.co/poc5zDyb4j|Analysts|Expect|Mosaic|Co|$|MOS|Will|Announce|Earnings|of|$|0.38|Per|Share|https|:|//t.co/wUz5n5cRYO|$|2.29|Billion|in|Sales|Expected|for|Mosaic|Co|$|MOS|This|Quarter|https|:|//t.co/TvQE3lexlH|In|2|days|I|doubled|my|account|with|the|option|trades|from|https|:|//t.co/fuqGGnsGDs|#|winners|#|nojoke|$|XRX|$|MRTX…|https|:|//t.co/zGFIrUGsVq|$|NI|high|OI|range|is|26.00|to|26.00|for|option|expiration|07/20/2018|#|maxpain|#|options|https|:|//t.co/SofR3EIASh|https|:|//t.co/1BiDccf6kl|RT|@|TradeSatoshi|:|$|AMG|AMGCHAIN|will|be|delisted|from|Tradesatoshi|the|31/07/18|devs|reset|the|blockchain|and|did|not|inform|us|causing|lo…|Payments|halted|under|Obamacare|program|https|:|//t.co/yuveHjiqti|$|UNH|$|AET|$|ANTM|$|CI|$|HUM|$|WCG|$|CNC|$|MOH…|https|:|//t.co/brxhRXNKGM|RT|@|forever_t_2000|:|Theres|goes|$|SODE|breaking|things|again|.|At|least|they|'re|getting|paid|to|fix|it|.|$|ACM|$|AEGN|$|AGX|$|BFLBF|$|BLD|$|DY|$|EM…|$|JEC|Max|Pain=65.00|.|Maturity=07/20/2018|.|#|maxpain|#|options|https|:|//t.co/UsAbQ5qAuk|https|:|//t.co/xO6Ew72bWA|RT|@|forever_t_2000|:|Theres|goes|$|SODE|breaking|things|again|.|At|least|they|'re|getting|paid|to|fix|it|.|$|ACM|$|AEGN|$|AGX|$|BFLBF|$|BLD|$|DY|$|EM…|Short|sale|volume|(|not|short|interest|)|for|$|IJR|on|2018-07-06|is|78|%|.|https|:|//t.co/sJqeEvuEQm|$|SENS|80|%|$|DVN|67|%|$|XLY|54|%|$|ODP|46|%|$|COO|high|OI|range|is|220.00|to|250.00|for|option|expiration|07/20/2018|#|maxpain|#|options|https|:|//t.co/MWW1X55Xnb|https|:|//t.co/9fTdfqcclB|RT|@|forever_t_2000|:|Theres|goes|$|SODE|breaking|things|again|.|At|least|they|'re|getting|paid|to|fix|it|.|$|ACM|$|AEGN|$|AGX|$|BFLBF|$|BLD|$|DY|$|EM…|$|SNPS|had|hired|more|while|rival|$|CDNS|had|reduced|headcount|https|:|//t.co/ErNHkTPuHR|$|INFO|$|PEP|Five|Things|You|Need|to|Know|to|Start|Your|Day|via|https|:|//t.co/jURZDymPXI|new|#|jobs|#|opening|growth|$|SNPS|v/s|$|CDNS|https|:|//t.co/lNW3lLs96a|RT|@|WallStJesus|:|Repeat|buying|in|biotech|$|ARRY|https|:|//t.co/gfThduDYw6|$|REG|Max|Pain|is|60.00|for|maturity|07/20/2018|.|#|maxpain|#|options|https|:|//t.co/5wnNLwjMl5|https|:|//t.co/coNB8dr1lx|RT|@|oliviabvoz|:|What|'s|shaking|guys|?|Inflation|&|amp|;|bank|earnings|are|some|of|your|market|shakers|this|week|:|https|:|//t.co/zUj03RrzaF|$|PEP|$|FST…|RT|@|OptionsHawk|:|$|AJG|CEO|bought|$|600K|in|stock|may|be|one|to|follow|always|been|a|preferred|play|of|mine|in|this|group|sitting|right|on…|RT|@|tradewithjoe|:|JULY|19|and|20|calls|active|today|-|$|ARRY|https|:|//t.co/6P8ZLv6CVv|Robert|Half|International|Inc.|$|RHI|Analysts|See|$|0.85|EPS|-|https|:|//t.co/YmS25tsO8A|$|0.85|EPS|Expected|for|Robert|Half|International|Inc.|$|RHI|https|:|//t.co/uHEQbYjnX1|EPS|for|Robert|Half|International|Inc.|$|RHI|Expected|At|$|0.85|-|https|:|//t.co/9zx0sjUaNr|RT|@|MttsTrading|:|MTTS|WEEKLY|WATCHLIST|FOR|JULY|9TH|2018|$|CXO|$|HP|$|RSPP|https|:|//t.co/poc5zDyb4j|RT|@|WallStJesus|:|Repeat|buying|in|biotech|$|ARRY|https|:|//t.co/gfThduDYw6|INSIDE|WK|SCAN|$|AKAM|$|AMAT|$|AXP|$|BA|$|BLUE|$|BOX|$|BZUN|$|C|$|CAT|$|CMCSA|$|CSCO|$|DBX|$|DIS|$|DE|$|DOCU|$|DLTR|$|EBAY|$|FDX…|https|:|//t.co/c1lAquqUfU|$|JD|$|ARRY|$|PYPL|$|UIS|5min|--|Daily|setups|for|Monday|.|https|:|//t.co/QrlBGCSruN|RT|@|dgarciacharts|:|INSIDE|WK|SCAN|$|AKAM|$|AMAT|$|AXP|$|BA|$|BLUE|$|BOX|$|BZUN|$|C|$|CAT|$|CMCSA|$|CSCO|$|DBX|$|DIS|$|DE|$|DOCU|$|DLTR|$|EBAY|$|FDX|$|FEYE|$|FS…|RT|@|WallStJesus|:|Repeat|buying|in|biotech|$|ARRY|https|:|//t.co/gfThduDYw6|Short|sale|vol|(|not|short|interest|)|for|$|CYH|on|2018-07-06|is|72|%|.|https|:|//t.co/Ev0VoqfMLV|$|THC|65|%|$|SEM|48|%|$|SSY|32|%|$|HCA|62|%|RT|@|forever_t_2000|:|Theres|goes|$|SODE|breaking|things|again|.|At|least|they|'re|getting|paid|to|fix|it|.|$|ACM|$|AEGN|$|AGX|$|BFLBF|$|BLD|$|DY|$|EM…|Finisar|Co.|$|FNSR|Expected|to|Announce|Quarterly|Sales|of|$|315.26|Million|https|:|//t.co/Ns3mDf4jVa|Finisar|Co.|$|FNSR|Expected|to|Post|Quarterly|Sales|of|$|315.26|Million|https|:|//t.co/RfBRipR0zq|Possible|plays|:|$|SGMO|$|TXMD|$|ABUS|$|VKTX|$|ECYT|$|VSTM|$|SGYP|$|TRVN|$|NVAX|$|OPK|$|OCUL|$|GERN|$|VRX|$|TSRO|$|AKAO|Let|’|s|see|what|I|pick|.|Follow|!|📈|RT|@|tradewithjoe|:|$|SPY|OPTIONS|FLOW|ALERTS|-|https|:|//t.co/NZc3w6bzNI|$|EEM|$|ARRY|$|CARS|$|JD|$|BLL|$|V|$|CAZR|$|BX|$|VIPS|$|OPK|$|BAC|$|WFC|$|XOP|$|JW…|RT|@|dgarciacharts|:|INSIDE|WK|SCAN|$|AKAM|$|AMAT|$|AXP|$|BA|$|BLUE|$|BOX|$|BZUN|$|C|$|CAT|$|CMCSA|$|CSCO|$|DBX|$|DIS|$|DE|$|DOCU|$|DLTR|$|EBAY|$|FDX|$|FEYE|$|FS…|Buying|in|options|land|on|Friday|7/6|!|$|QSR|$|IGT|$|SKX|$|VOYA|$|FCX|$|NVO|$|PXD|$|VIPS|$|VVV|$|SGMS|$|PII|$|ETFC|$|BLL|$|GPRO…|https|:|//t.co/zcyw6K1VTv|Short|sale|volume|(|not|short|interest|)|for|$|WU|on|2018-07-06|is|38|%|.|https|:|//t.co/MN0BezRLba|$|FIS|45|%|$|MA|58|%|$|MGI|26|%|$|WEX|53|%|Weekly|Recap|:|$|HSY|price|moved|4.28|%|since|post|-|next|stop|98.50|.|Other|trades|included|AA|SPY|BABA|MDSO|AYI|FB|SH…|https|:|//t.co/uGd8Esohx8|$|ANSS|high|OI|range|is|150.00|to|170.00|for|option|expiration|07/20/2018|#|maxpain|#|options|https|:|//t.co/l4WbKAgcvU|https|:|//t.co/9ijKHXTPYu|RT|@|oliviabvoz|:|What|'s|shaking|guys|?|Inflation|&|amp|;|bank|earnings|are|some|of|your|market|shakers|this|week|:|https|:|//t.co/zUj03RrzaF|$|PEP|$|FST…|Monday|’|s|Watch1|$|AMZN|$|GOOGL|$|FB|$|AAPL|$|AMD|$|BIDU|$|BABA|$|BTC.X|$|ETH.X|$|BIIB|$|CELG|$|GILD|$|INTC|$|JD|$|ARQL|$|ARRY|$|ARWR…|https|:|//t.co/Ku6wqg8ECi|$|PNR|broker|price|target|0.36|https|:|//t.co/DHaGJaArxd|https|:|//t.co/OBz0UXv4jb|RT|@|mchaudhry82|:|Monday|’|s|Watch1|$|AMZN|$|GOOGL|$|FB|$|AAPL|$|AMD|$|BIDU|$|BABA|$|BTC.X|$|ETH.X|$|BIIB|$|CELG|$|GILD|$|INTC|$|JD|$|ARQL|$|ARRY|$|ARWR|$|ENDP…|Short|sale|vol|(|not|short|interest|)|for|$|AMAT|on|2018-07-06|is|38|%|.|https|:|//t.co/h8sUZH3HlD|$|LRCX|39|%|$|SNPS|34|%|$|TER|51|%|$|KLAC|55|%|RT|@|forever_t_2000|:|Theres|goes|$|SODE|breaking|things|again|.|At|least|they|'re|getting|paid|to|fix|it|.|$|ACM|$|AEGN|$|AGX|$|BFLBF|$|BLD|$|DY|$|EM…|$|MOS|D1|outside|day|&|gt|;|50SMA|https|:|//t.co/aQ5Tf1kEKy|$|0.46|EPS|Expected|for|DDR|Corp.|$|DDR|https|:|//t.co/a94iNGFhS8|RT|@|kelvo1972|:|My|watch|list|for|tomorrow|.|$|FB|$|AAPL|$|BA|$|NVDA|$|BABA|$|EL|Same|as|always|.|When|you|learn|and|tune|in|to|a|small|hand|full|of…|REVERSE|MERGER|TWEET|$|qqq|$|aapl|$|tvix|$|veon|$|csco|$|siri|$|rook|$|mu|$|msft|$|fb|$|sqqq|$|intc|$|cmcsa|$|amat|$|nvda|$|sgmo…|https|:|//t.co/evp23dqMFp|Swing|Trading|-|Watchlist|this|week|-|Chart|CandleGlance|$|IPGP|$|VRNS|$|ANET|$|MDB|$|TIF|$|OLLI|$|EXPD|$|EA|$|KMG|$|HD…|https|:|//t.co/YNU9j6qS1j|REVERSE|MERGER|TWEET|$|PTEN|$|NWL|$|TJX|$|EPD|$|TBT|$|NE|$|TAL|$|SPXS|$|MXIM|$|WELL|$|MMM|$|SRC|$|CSX|$|KBR|$|MHK|$|ODP|$|MHK|$|SRC…|https|:|//t.co/Pf7doc6AWB|RT|@|forever_t_2000|:|Theres|goes|$|SODE|breaking|things|again|.|At|least|they|'re|getting|paid|to|fix|it|.|$|ACM|$|AEGN|$|AGX|$|BFLBF|$|BLD|$|DY|$|EM…|RT|@|OneOClockDrop|:|REVERSE|MERGER|TWEET|$|PTEN|$|NWL|$|TJX|$|EPD|$|TBT|$|NE|$|TAL|$|SPXS|$|MXIM|$|WELL|$|MMM|$|SRC|$|CSX|$|KBR|$|MHK|$|ODP|$|MHK|$|SRC|$|PEP|$|…|$|3.98|Billion|in|Sales|Expected|for|Jacobs|Engineering|Group|Inc|$|JEC|This|Quarter|https|:|//t.co/IIxNxLmm3r|$|ABG|$|ALGN|$|BA|$|DLTR|$|HTHT|$|KORS|$|NSP|$|SPY|$|URI|https|:|//t.co/CStZ6m4whm|Short|sale|volume|(|not|short|interest|)|for|$|D|on|2018-07-06|is|60|%|.|https|:|//t.co/lSB9hLO5Re|$|AEE|58|%|$|CMS|58|%|$|EXC|49|%|$|SRE|56|%|$|AJG|Arthur|J.|Gallagher|&|amp|;|Co.|Acquires|Milne|Alexander|From|our|Stock|News|Alerts|App|A|portfolio|for|@|johnauthers|.|$|ABG|$|ALGN|$|BA|$|DLTR|$|HTHT|$|KORS|$|NSP|$|SPY|$|URI|https|:|//t.co/joWdEKXF44|Zacks|:|Brokerages|Anticipate|Aon|PLC|$|AON|Will|Post|Quarterly|Sales|of|$|2.50|Billion|https|:|//t.co/z6yqECpIVS|Contrasting|Miragen|Therapeutics|$|MGEN|&|amp|;|Laboratory|Corp.|of|America|$|LH|https|:|//t.co/t5njE0kSyf|$|AAN|$|AAPL|$|ABBV|$|ADM|$|AFL|$|ALLE|$|AM|$|AMGP|$|AMP|$|AMT|$|ANDX|$|AON|$|AOS|$|APD|$|APOG|$|AQN|$|AVGO|$|AY|$|BAC|$|BAM|$|BEP|$|BIP|https|:|//t.co/9k5FoGxr9m|Apartment|Investment|and|Management|’|s|$|AIV|“|Hold|”|Rating|Reiterated|at|BMO|Capital|Markets|https|:|//t.co/6UB1H9AlYc|Everest|Re|Group|$|RE|and|Heritage|Insurance|$|HRTG|Critical|Contrast|https|:|//t.co/LSiXQGnwYl|$|AR|$|CGC|$|DAVE|$|GNC|$|HSY|$|ICON|$|KMB|$|M|$|PEP|$|PG|$|RRC|$|SMRT|$|WTW|https|:|//t.co/CTcJlHVVlZ|RT|@|SeekingAlpha|:|$|AR|$|CGC|$|DAVE|$|GNC|$|HSY|$|ICON|$|KMB|$|M|$|PEP|$|PG|$|RRC|$|SMRT|$|WTW|https|:|//t.co/CTcJlHVVlZ|The|Western|Union|$|WU|Stock|Rating|Upgraded|by|Zacks|Investment|Research|https|:|//t.co/qLDhH48Fm0|The|Western|Union|$|WU|Stock|Rating|Upgraded|by|Zacks|Investment|Research|https|:|//t.co/UuUlg2PWeu|WestRock|$|WRK|Given|a|$|63.00|Price|Target|at|Stephens|https|:|//t.co/vNBFXavgcP|Analyzing|PJT|Partners|$|PJT|&|amp|;|Affiliated|Managers|Group|$|AMG|https|:|//t.co/vnRFGWaBpW|WestRock|$|WRK|Given|a|$|63.00|Price|Target|at|Stephens|https|:|//t.co/WcU2tkTB4V|C.H|.|Robinson|Worldwide|$|CHRW|versus|Expeditors|International|of|Washington|$|EXPD|Head-To-Head|Analysis|https|:|//t.co/YflkRx4O87|Critical|Survey|:|C.H|.|Robinson|Worldwide|$|CHRW|and|Expeditors|International|of|Washington|$|EXPD|https|:|//t.co/P5nmJWMRDY|Affiliated|Managers|Group|$|AMG|versus|PJT|Partners|$|PJT|Critical|Analysis|https|:|//t.co/8CpfXaXzYb|$|PNR|ready|to|attack|🗡|recent|highs|.|needs|volume|🚀🚨|https|:|//t.co/0YgE51Dvcp|Argus|Trims|Harris|$|HRS|Target|Price|to|$|170.00|https|:|//t.co/CjFTg7CAfR|Advance|Auto|Parts|$|AAP|Rating|Increased|to|Buy|at|ValuEngine|https|:|//t.co/kZqLnVusB5|RT|SeekingAlpha|``|$|BWP|$|NS|$|SMLP|$|MMP|$|BPL|$|BKEP|$|CEQP|$|NSH|$|PAGP|$|OKE|$|SEMG|$|TGE|$|ENB|$|IPPLF|$|PPL|$|KEY|$|BIP|$|TOO…|https|:|//t.co/lNIawBTBLF|RT|SeekingAlpha|``|$|ABG|$|ALGN|$|BA|$|DLTR|$|HTHT|$|KORS|$|NSP|$|SPY|$|URI|https|:|//t.co/yXn1f1x93I|''|RT|SeekingAlpha|``|$|AAN|$|AAPL|$|ABBV|$|ADM|$|AFL|$|ALLE|$|AM|$|AMGP|$|AMP|$|AMT|$|ANDX|$|AON|$|AOS|$|APD|$|APOG|$|AQN|$|AVGO|$|AY…|https|:|//t.co/qQHyDckKJR|RT|SeekingAlpha|``|$|AR|$|CGC|$|DAVE|$|GNC|$|HSY|$|ICON|$|KMB|$|M|$|PEP|$|PG|$|RRC|$|SMRT|$|WTW|https|:|//t.co/nleWSJ1eZe|''|Q2|$|QTWO|versus|ANSYS|$|ANSS|Critical|Review|https|:|//t.co/B3UyB4F1qA|Head-To-Head|Review|:|Q2|$|QTWO|vs.|ANSYS|$|ANSS|https|:|//t.co/2DEtiOaBgM|$|AON|@|ApolloMinerals|–|Excellent|Infrastructure|and|Ground|Conditions|Confirmed|At|Historical|Salau|#|Tungsten|Mine|https|:|//t.co/0EXvMujfVA|RT|@|themotleyfool|:|2|true-blue|tech|plays|plus|a|tooth|tech|play|.|And|all|3|look|undervalued|.|$|IBM|$|MU|$|XRAY|https|:|//t.co/lRXGdgG0nL|Head|to|Head|Review|:|Mettler-Toledo|International|$|MTD|&|amp|;|Fluidigm|$|FLDM|https|:|//t.co/lyK912kYXI|DENTSPLY|SIRONA|$|XRAY|Upgraded|to|Hold|at|BidaskClub|https|:|//t.co/IxDxf7yDpo|DENTSPLY|SIRONA|$|XRAY|Upgraded|at|BidaskClub|https|:|//t.co/jMfwmJXPYZ|RT|@|Brand_UK|:|$|AON|@|ApolloMinerals|–|Excellent|Infrastructure|and|Ground|Conditions|Confirmed|At|Historical|Salau|#|Tungsten|Mine|https|:|//t.…|Zacks|Investment|Research|Upgrades|Torchmark|$|TMK|to|Buy|https|:|//t.co/BVaSeDWM4L|Zacks|Investment|Research|Upgrades|Torchmark|$|TMK|to|Buy|https|:|//t.co/yRaNxfV7BQ|$|AON|@|ApolloMinerals|provide|yet|more|compelling|evidence|that|Salau|is|one|of|the|highest|quality|#|Tungsten|#|Mines…|https|:|//t.co/VTbZPyMT3p|Critical|Survey|:|Nelnet|$|NNI|vs.|SLM|$|SLM|https|:|//t.co/SPbSRElqCr|RT|@|iRegMedOfficial|:|Our|Goal|is|maximum|Efficiency|with|minimal|side|effects|!|Prof.|Dr.|Ulrich|Schneider|$|IRM|#|Health|#|blockchain|#|bitcoi…|Laboratory|Corp.|of|America|$|LH|versus|InVitae|$|NVTA|Critical|Contrast|https|:|//t.co/6KkkoDsQwA|Comparing|C.H|.|Robinson|Worldwide|$|CHRW|&|amp|;|Expeditors|International|of|Washington|$|EXPD|https|:|//t.co/XULl9cysKe|Wells|Fargo|&|amp|;|Co|Analysts|Give|SLM|$|SLM|a|$|14.00|Price|Target|https|:|//t.co/BQdU2FCXKO|SLM|$|SLM|PT|Set|at|$|14.00|by|Wells|Fargo|&|amp|;|Co|https|:|//t.co/jwXmquwYCk|Stericycle|$|SRCL|Stock|Rating|Upgraded|by|Zacks|Investment|Research|https|:|//t.co/LMJvT2eQUT|Stericycle|$|SRCL|Lifted|to|“|Buy|”|at|Zacks|Investment|Research|https|:|//t.co/DVT9pzN5pT|Btw|Estimated|#|Earnings|Per|Share|for|$|IP|is|$|1.14|it|'s|2.18|%|of|the|current|price|https|:|//t.co/uUIF7IZDOj|Mettler-Toledo|International|$|MTD|&|amp|;|Quanterix|$|QTRX|Head-To-Head|Analysis|https|:|//t.co/jVGZA2xIwN|RT|@|beep_eminent|:|$|EMN|Eminent|Token|FUEL|for|BeepBeep|Nation|:|A|Decentralized|Helping|Economy|On|A|Mobile|Application|.|You|can|get|a|ri…|RT|@|beep_eminent|:|The|$|EMN|EMINENT|token|which|fuels|the|BeepBeep|Nation|app|will|be|available|for|purchase|on|Wednesday|June|27th|2018|.|Re…|Head-To-Head|Comparison|:|Quanterix|$|QTRX|vs.|Mettler-Toledo|International|$|MTD|https|:|//t.co/CfcywwJb6D|Nuance|Communications|$|NUAN|Upgraded|by|ValuEngine|to|“|Sell|”|https|:|//t.co/jP1NX6fVJD\""
      ]
     },
     "execution_count": 30,
     "metadata": {},
     "output_type": "execute_result"
    }
   ],
   "source": [
    "word_tokens = []\n",
    "for i in range(df3.shape[0]):\n",
    "  word_tokens = word_tokens + nltk.word_tokenize(df3[i])\n",
    "\"|\".join(word_tokens)"
   ]
  },
  {
   "cell_type": "code",
   "execution_count": 31,
   "metadata": {
    "colab": {
     "base_uri": "https://localhost:8080/",
     "height": 106
    },
    "executionInfo": {
     "elapsed": 1407,
     "status": "ok",
     "timestamp": 1604321403674,
     "user": {
      "displayName": "Shawn Chen",
      "photoUrl": "https://lh5.googleusercontent.com/-K-2N4FzP3ps/AAAAAAAAAAI/AAAAAAAACVg/V77Cm3VAsG8/s64/photo.jpg",
      "userId": "14192269276493206783"
     },
     "user_tz": -480
    },
    "id": "F8hlDnd-exB0",
    "outputId": "285c45bf-58fe-4ba3-a7fd-ec8b5bb9f8ed"
   },
   "outputs": [
    {
     "data": {
      "text/plain": [
       "\"video|:|“|i|was|in|my|offic|.|i|was|mind|my|own|busi|...|”|–david|solomon|tell|$|gs|intern|how|he|learn|he|wa…|https|:|//t.co/qclaitywxv|the|price|of|lumber|$|lb_f|is|down|22|%|sinc|hit|it|ytd|high|.|the|maci|'s|$|m|turnaround|is|still|happening.…|https|:|//t.co/xnksv4de39|who|say|the|american|dream|is|dead|?|https|:|//t.co/crgx19x7sa|barri|silbert|is|extrem|optimist|on|bitcoin|--|but|predict|that|99|%|of|new|crypto|entrant|are|“|go|to|zero…|https|:|//t.co/mgmvo2czgi|how|satellit|avoid|attack|and|space|junk|while|circl|the|earth|https|:|//t.co/ahziv3lqp5|#|paid|@|oracl|https|:|//t.co/kacpqzwidj|.|@|realmoney|'s|david|butler|'s|favorit|fang|stock|is|n't|#|realmoneysod|alphabet|but|facebook|https|:|//t.co/mczapsfjoi|don|’|t|miss|my|convo|with|one|of|my|favorit|thinker|@|samharrisorg|!|https|:|//t.co/uupvxiobch|u.s.|intellig|document|on|nelson|mandela|made|public|https|:|//t.co/xtnefo1ro6|https|:|//t.co/v8dxkwdq6r|senat|want|emerg|alert|to|go|out|through|netflix|spotifi|etc|.|https|:|//t.co/23yy3whblc|by|@|grg|hedg|fund|manag|marc|larsi|say|bitcoin|$|40k|is|possibl|https|:|//t.co/54upe0owqt|u.s.|propos|expedit|appeal|in|fight|with|at|&|amp|;|t|over|time|warner|purchas|https|:|//t.co/btjhzde3nu|https|:|//t.co/gh32zj4vpo|roger|feder|'s|uniqlo|deal|make|him|one|of|the|few|athlet|to|earn|more|than|$|70m|from|endorsements…|https|:|//t.co/jq8soayebq|bond|trader|are|ahead|of|jerom|powel|when|it|come|to|inflat|expect|https|:|//t.co/dkdzlcy3mt|via…|https|:|//t.co/ucx7eihp4r|alcoa|cut|adjust|ebitda|forecast|cite|tariff|share|slide|https|:|//t.co/mdmjxjnyi|https|:|//t.co/5o8fvwlhpi|custom|urg|boycott|of|mgm|resort|after|the|casino|file|lawsuit|against|mass|shoot|victims…|https|:|//t.co/dahk87dpma|the|gap|tighten|in|the|race|to|a|trillion|dollar|valuat|as|amazon|hit|$|900|billion|https|:|//t.co/zjzm25aglq|via…|https|:|//t.co/difuft6sgp|presid|trump|endors|brian|kemp|over|casey|cagl|in|georgia|governor|’|s|race|https|:|//t.co/vhgn5rnraw|white|hous|struggl|to|contain|fallout|from|trump-putin|summit|https|:|//t.co/ntzachjib|https|:|//t.co/flshaudrz|laker|guard|hart|name|summer|leagu|mvp|and|more|u.s.|sport|headlin|https|:|//t.co/rvryaqdpqd|https|:|//t.co/r5x71iffsl|onli|two|northern|white|rhino|still|exist|make|it|the|world|'s|most|endang|subspeci|of|mammal|https|:|//t.co/wejufervx6|trump|tell|cbs|he|'s|``|alway|want|''|to|be|interview|by|special|counsel|mueller|but|deflect|question|on|whethe…|https|:|//t.co/at43bigpdh|templeton|and|blackrock|say|now|'s|the|time|to|buy|emerg|market|https|:|//t.co/h4z90nxqwh|https|:|//t.co/6fkvrzlu3j|chart|say|#|realmoneysod|$|googl|could|rise|17|%|or|more|from|here|:|@|brucekamich|https|:|//t.co/czbry4dahn|ebay|revenu|miss|as|weak|u.s.|sport|season|hit|stubhub|https|:|//t.co/3rdnkmvun8|https|:|//t.co/n6ixpxezjg|new|york|citi|will|forc|airbnb|to|disclos|inform|on|it|host|https|:|//t.co/jdq88zbmgr|https|:|//t.co/9spvnk6cvu|rt|@|josheidelson|:|exclus|:|elon|musk|call|sierra|club|'s|execut|director|saturday|and|``|ask|for|some|help|via|twitter|''|the|green|gr…|new|time|:|janet|yellen|and|i|in|convers|at|brook|on|feb.|27|at|2|pm|est|.|join|us|onlin|or|on|facebook|liv…|https|:|//t.co/hdg7x5rc5p|the|robot|homi|r2-d2|told|me|to|buy|sell|and|hold|fidel|nation|inform|servic|$|fis|#|bullmarket|arthur|j|gallagh|&|amp|;|co|$|ajg|vs.|marsh|&|amp|;|mclennan|compani|$|mmc|critic|contrast|https|:|//t.co/aettr2nzeq|arthur|j|gallagh|&|amp|;|co|$|ajg|vs.|marsh|&|amp|;|mclennan|compani|$|mmc|critic|contrast|https|:|//t.co/cdjcvakg5d|$|info|$|c|asia|stock|signal|gain|;|dollar|weak|watch|:|market|wrap|via|https|:|//t.co/jurzdympxi|rt|@|dailypoliticaln|:|fluor|co.|$|new|$|flr|stock|rate|upgrad|by|zack|invest|research|https|:|//t.co/bpngsozjmh|averi|dennison|corpor|$|avi|ep|estim|at|$|1.56|-|https|:|//t.co/ygobscxv2k|what|'s|shake|guy|?|inflat|&|amp|;|bank|earn|are|some|of|your|market|shaker|this|week|:|https|:|//t.co/zuj03rrzaf…|https|:|//t.co/cewyqtbwv|ep|for|averi|dennison|corpor|$|avi|expect|at|$|1.56|https|:|//t.co/jgh1us4tjt|averi|dennison|corpor|$|avi|ep|estim|at|$|1.56|-|https|:|//t.co/tgdsfylo7v|rt|@|oliviabvoz|:|what|'s|shake|guy|?|inflat|&|amp|;|bank|earn|are|some|of|your|market|shaker|this|week|:|https|:|//t.co/zuj03rrzaf|$|pep|$|fst…|do|you|know|that|#|book|valu|for|$|xyl|is|$|13.92|https|:|//t.co/p8nny8vkf6|do|you|know|that|#|wallstreet|price|for|$|irm|is|$|38.83|https|:|//t.co/k8tfsufesc|wonder|about|risk|of|$|irm|?|the|21-day|volatil|is|4.12|%|https|:|//t.co/6kpjap4fac|$|or|max|pain=280.00|.|maturity=07/20/2018|.|#|maxpain|#|option|https|:|//t.co/e1qxoamxz0|https|:|//t.co/siiexlce1t|$|avb|max|pain=170.00|.|maturity=07/20/2018|.|#|maxpain|#|option|https|:|//t.co/ysw8y4pvl1|https|:|//t.co/55gylnjkc1|$|cube|$|exr|$|hog|$|ko|$|lsi|$|psa|$|irm|https|:|//t.co/n2jguhzqx1|mtts|week|watchlist|for|juli|9th|2018|$|cxo|$|hp|$|rspp|https|:|//t.co/poc5zdyb4j|analyst|expect|mosaic|co|$|mos|will|announc|earn|of|$|0.38|per|share|https|:|//t.co/wuz5n5cryo|$|2.29|billion|in|sale|expect|for|mosaic|co|$|mos|this|quarter|https|:|//t.co/tvqe3lexlh|in|2|day|i|doubl|my|account|with|the|option|trade|from|https|:|//t.co/fuqggnsgd|#|winner|#|nojok|$|xrx|$|mrtx…|https|:|//t.co/zgfirugsvq|$|ni|high|oi|rang|is|26.00|to|26.00|for|option|expir|07/20/2018|#|maxpain|#|option|https|:|//t.co/sofr3eiash|https|:|//t.co/1bidccf6kl|rt|@|tradesatoshi|:|$|amg|amgchain|will|be|delist|from|tradesatoshi|the|31/07/18|dev|reset|the|blockchain|and|did|not|inform|us|caus|lo…|payment|halt|under|obamacar|program|https|:|//t.co/yuvehjiqti|$|unh|$|aet|$|antm|$|ci|$|hum|$|wcg|$|cnc|$|moh…|https|:|//t.co/brxhrxnkgm|rt|@|forever_t_2000|:|there|goe|$|sode|break|thing|again|.|at|least|they|re|get|paid|to|fix|it|.|$|acm|$|aegn|$|agx|$|bflbf|$|bld|$|dy|$|em…|$|jec|max|pain=65.00|.|maturity=07/20/2018|.|#|maxpain|#|option|https|:|//t.co/usabq5qauk|https|:|//t.co/xo6ew72bwa|rt|@|forever_t_2000|:|there|goe|$|sode|break|thing|again|.|at|least|they|re|get|paid|to|fix|it|.|$|acm|$|aegn|$|agx|$|bflbf|$|bld|$|dy|$|em…|short|sale|volum|(|not|short|interest|)|for|$|ijr|on|2018-07-06|is|78|%|.|https|:|//t.co/sjqeevueqm|$|sen|80|%|$|dvn|67|%|$|xli|54|%|$|odp|46|%|$|coo|high|oi|rang|is|220.00|to|250.00|for|option|expir|07/20/2018|#|maxpain|#|option|https|:|//t.co/mww1x55xnb|https|:|//t.co/9ftdfqcclb|rt|@|forever_t_2000|:|there|goe|$|sode|break|thing|again|.|at|least|they|re|get|paid|to|fix|it|.|$|acm|$|aegn|$|agx|$|bflbf|$|bld|$|dy|$|em…|$|snps|had|hire|more|while|rival|$|cdns|had|reduc|headcount|https|:|//t.co/ernhktpuhr|$|info|$|pep|five|thing|you|need|to|know|to|start|your|day|via|https|:|//t.co/jurzdympxi|new|#|job|#|open|growth|$|snps|v/s|$|cdns|https|:|//t.co/lnw3lls96a|rt|@|wallstjesus|:|repeat|buy|in|biotech|$|arri|https|:|//t.co/gfthdudyw6|$|reg|max|pain|is|60.00|for|matur|07/20/2018|.|#|maxpain|#|option|https|:|//t.co/5wnnlwjml5|https|:|//t.co/conb8dr1lx|rt|@|oliviabvoz|:|what|'s|shake|guy|?|inflat|&|amp|;|bank|earn|are|some|of|your|market|shaker|this|week|:|https|:|//t.co/zuj03rrzaf|$|pep|$|fst…|rt|@|optionshawk|:|$|ajg|ceo|bought|$|600k|in|stock|may|be|one|to|follow|alway|been|a|prefer|play|of|mine|in|this|group|sit|right|on…|rt|@|tradewithjo|:|juli|19|and|20|call|activ|today|-|$|arri|https|:|//t.co/6p8zlv6cvv|robert|half|intern|inc.|$|rhi|analyst|see|$|0.85|ep|-|https|:|//t.co/yms25tso8a|$|0.85|ep|expect|for|robert|half|intern|inc.|$|rhi|https|:|//t.co/uheqbyjnx1|ep|for|robert|half|intern|inc.|$|rhi|expect|at|$|0.85|-|https|:|//t.co/9zx0sjuanr|rt|@|mttstrade|:|mtts|week|watchlist|for|juli|9th|2018|$|cxo|$|hp|$|rspp|https|:|//t.co/poc5zdyb4j|rt|@|wallstjesus|:|repeat|buy|in|biotech|$|arri|https|:|//t.co/gfthdudyw6|insid|wk|scan|$|akam|$|amat|$|axp|$|ba|$|blue|$|box|$|bzun|$|c|$|cat|$|cmcsa|$|csco|$|dbx|$|dis|$|de|$|docu|$|dltr|$|ebay|$|fdx…|https|:|//t.co/c1laququfu|$|jd|$|arri|$|pypl|$|ui|5min|--|daili|setup|for|monday|.|https|:|//t.co/qrlbgcsrun|rt|@|dgarciachart|:|insid|wk|scan|$|akam|$|amat|$|axp|$|ba|$|blue|$|box|$|bzun|$|c|$|cat|$|cmcsa|$|csco|$|dbx|$|dis|$|de|$|docu|$|dltr|$|ebay|$|fdx|$|fey|$|fs…|rt|@|wallstjesus|:|repeat|buy|in|biotech|$|arri|https|:|//t.co/gfthdudyw6|short|sale|vol|(|not|short|interest|)|for|$|cyh|on|2018-07-06|is|72|%|.|https|:|//t.co/ev0voqfmlv|$|thc|65|%|$|sem|48|%|$|ssi|32|%|$|hca|62|%|rt|@|forever_t_2000|:|there|goe|$|sode|break|thing|again|.|at|least|they|re|get|paid|to|fix|it|.|$|acm|$|aegn|$|agx|$|bflbf|$|bld|$|dy|$|em…|finisar|co.|$|fnsr|expect|to|announc|quarter|sale|of|$|315.26|million|https|:|//t.co/ns3mdf4jva|finisar|co.|$|fnsr|expect|to|post|quarter|sale|of|$|315.26|million|https|:|//t.co/rfbripr0zq|possibl|play|:|$|sgmo|$|txmd|$|abus|$|vktx|$|ecyt|$|vstm|$|sgyp|$|trvn|$|nvax|$|opk|$|ocul|$|gern|$|vrx|$|tsro|$|akao|let|’|s|see|what|i|pick|.|follow|!|📈|rt|@|tradewithjo|:|$|spi|option|flow|alert|-|https|:|//t.co/nzc3w6bzni|$|eem|$|arri|$|car|$|jd|$|bll|$|v|$|cazr|$|bx|$|vip|$|opk|$|bac|$|wfc|$|xop|$|jw…|rt|@|dgarciachart|:|insid|wk|scan|$|akam|$|amat|$|axp|$|ba|$|blue|$|box|$|bzun|$|c|$|cat|$|cmcsa|$|csco|$|dbx|$|dis|$|de|$|docu|$|dltr|$|ebay|$|fdx|$|fey|$|fs…|buy|in|option|land|on|friday|7/6|!|$|qsr|$|igt|$|skx|$|voya|$|fcx|$|nvo|$|pxd|$|vip|$|vvv|$|sgms|$|pii|$|etfc|$|bll|$|gpro…|https|:|//t.co/zcyw6k1vtv|short|sale|volum|(|not|short|interest|)|for|$|wu|on|2018-07-06|is|38|%|.|https|:|//t.co/mn0bezrlba|$|fis|45|%|$|ma|58|%|$|mgi|26|%|$|wex|53|%|week|recap|:|$|hsi|price|move|4.28|%|sinc|post|-|next|stop|98.50|.|other|trade|includ|aa|spi|baba|mdso|ayi|fb|sh…|https|:|//t.co/ugd8esohx8|$|anss|high|oi|rang|is|150.00|to|170.00|for|option|expir|07/20/2018|#|maxpain|#|option|https|:|//t.co/l4wbkagcvu|https|:|//t.co/9ijkhxtpyu|rt|@|oliviabvoz|:|what|'s|shake|guy|?|inflat|&|amp|;|bank|earn|are|some|of|your|market|shaker|this|week|:|https|:|//t.co/zuj03rrzaf|$|pep|$|fst…|monday|’|s|watch1|$|amzn|$|googl|$|fb|$|aapl|$|amd|$|bidu|$|baba|$|btc.x|$|eth.x|$|biib|$|celg|$|gild|$|intc|$|jd|$|arql|$|arri|$|arwr…|https|:|//t.co/ku6wqg8eci|$|pnr|broker|price|target|0.36|https|:|//t.co/dhagjaarxd|https|:|//t.co/obz0uxv4jb|rt|@|mchaudhry82|:|monday|’|s|watch1|$|amzn|$|googl|$|fb|$|aapl|$|amd|$|bidu|$|baba|$|btc.x|$|eth.x|$|biib|$|celg|$|gild|$|intc|$|jd|$|arql|$|arri|$|arwr|$|endp…|short|sale|vol|(|not|short|interest|)|for|$|amat|on|2018-07-06|is|38|%|.|https|:|//t.co/h8suzh3hld|$|lrcx|39|%|$|snps|34|%|$|ter|51|%|$|klac|55|%|rt|@|forever_t_2000|:|there|goe|$|sode|break|thing|again|.|at|least|they|re|get|paid|to|fix|it|.|$|acm|$|aegn|$|agx|$|bflbf|$|bld|$|dy|$|em…|$|mos|d1|outsid|day|&|gt|;|50sma|https|:|//t.co/aq5tf1keki|$|0.46|ep|expect|for|ddr|corp.|$|ddr|https|:|//t.co/a94ingfhs8|rt|@|kelvo1972|:|my|watch|list|for|tomorrow|.|$|fb|$|aapl|$|ba|$|nvda|$|baba|$|el|same|as|alway|.|when|you|learn|and|tune|in|to|a|small|hand|full|of…|revers|merger|tweet|$|qqq|$|aapl|$|tvix|$|veon|$|csco|$|siri|$|rook|$|mu|$|msft|$|fb|$|sqqq|$|intc|$|cmcsa|$|amat|$|nvda|$|sgmo…|https|:|//t.co/evp23dqmfp|swing|trade|-|watchlist|this|week|-|chart|candlegl|$|ipgp|$|vrns|$|anet|$|mdb|$|tif|$|olli|$|expd|$|ea|$|kmg|$|hd…|https|:|//t.co/ynu9j6qs1j|revers|merger|tweet|$|pten|$|nwl|$|tjx|$|epd|$|tbt|$|ne|$|tal|$|spxs|$|mxim|$|well|$|mmm|$|src|$|csx|$|kbr|$|mhk|$|odp|$|mhk|$|src…|https|:|//t.co/pf7doc6awb|rt|@|forever_t_2000|:|there|goe|$|sode|break|thing|again|.|at|least|they|re|get|paid|to|fix|it|.|$|acm|$|aegn|$|agx|$|bflbf|$|bld|$|dy|$|em…|rt|@|oneoclockdrop|:|revers|merger|tweet|$|pten|$|nwl|$|tjx|$|epd|$|tbt|$|ne|$|tal|$|spxs|$|mxim|$|well|$|mmm|$|src|$|csx|$|kbr|$|mhk|$|odp|$|mhk|$|src|$|pep|$|…|$|3.98|billion|in|sale|expect|for|jacob|engin|group|inc|$|jec|this|quarter|https|:|//t.co/iixnxlmm3r|$|abg|$|algn|$|ba|$|dltr|$|htht|$|kor|$|nsp|$|spi|$|uri|https|:|//t.co/cstz6m4whm|short|sale|volum|(|not|short|interest|)|for|$|d|on|2018-07-06|is|60|%|.|https|:|//t.co/lsb9hlo5r|$|aee|58|%|$|cms|58|%|$|exc|49|%|$|sre|56|%|$|ajg|arthur|j.|gallagh|&|amp|;|co.|acquir|miln|alexand|from|our|stock|news|alert|app|a|portfolio|for|@|johnauth|.|$|abg|$|algn|$|ba|$|dltr|$|htht|$|kor|$|nsp|$|spi|$|uri|https|:|//t.co/jowdekxf44|zack|:|brokerag|anticip|aon|plc|$|aon|will|post|quarter|sale|of|$|2.50|billion|https|:|//t.co/z6yqecpiv|contrast|miragen|therapeut|$|mgen|&|amp|;|laboratori|corp.|of|america|$|lh|https|:|//t.co/t5nje0ksyf|$|aan|$|aapl|$|abbv|$|adm|$|afl|$|all|$|am|$|amgp|$|amp|$|amt|$|andx|$|aon|$|ao|$|apd|$|apog|$|aqn|$|avgo|$|ay|$|bac|$|bam|$|bep|$|bip|https|:|//t.co/9k5fogxr9m|apart|invest|and|manag|’|s|$|aiv|“|hold|”|rate|reiter|at|bmo|capit|market|https|:|//t.co/6ub1h9alyc|everest|re|group|$|re|and|heritag|insur|$|hrtg|critic|contrast|https|:|//t.co/lsixqgnwyl|$|ar|$|cgc|$|dave|$|gnc|$|hsi|$|icon|$|kmb|$|m|$|pep|$|pg|$|rrc|$|smrt|$|wtw|https|:|//t.co/ctcjlhvvlz|rt|@|seekingalpha|:|$|ar|$|cgc|$|dave|$|gnc|$|hsi|$|icon|$|kmb|$|m|$|pep|$|pg|$|rrc|$|smrt|$|wtw|https|:|//t.co/ctcjlhvvlz|the|western|union|$|wu|stock|rate|upgrad|by|zack|invest|research|https|:|//t.co/qldhh48fm0|the|western|union|$|wu|stock|rate|upgrad|by|zack|invest|research|https|:|//t.co/uuulg2pweu|westrock|$|wrk|given|a|$|63.00|price|target|at|stephen|https|:|//t.co/vnbfxavgcp|analyz|pjt|partner|$|pjt|&|amp|;|affili|manag|group|$|amg|https|:|//t.co/vnrfgwabpw|westrock|$|wrk|given|a|$|63.00|price|target|at|stephen|https|:|//t.co/wcu2tktb4v|c.h|.|robinson|worldwid|$|chrw|versus|expeditor|intern|of|washington|$|expd|head-to-head|analysi|https|:|//t.co/yflkrx4o87|critic|survey|:|c.h|.|robinson|worldwid|$|chrw|and|expeditor|intern|of|washington|$|expd|https|:|//t.co/p5nmjwmrdi|affili|manag|group|$|amg|versus|pjt|partner|$|pjt|critic|analysi|https|:|//t.co/8cpfxaxzyb|$|pnr|readi|to|attack|🗡|recent|high|.|need|volum|🚀🚨|https|:|//t.co/0yge51dvcp|argus|trim|harri|$|hrs|target|price|to|$|170.00|https|:|//t.co/cjftg7cafr|advanc|auto|part|$|aap|rate|increas|to|buy|at|valuengin|https|:|//t.co/kzqlnvusb5|rt|seekingalpha|``|$|bwp|$|ns|$|smlp|$|mmp|$|bpl|$|bkep|$|ceqp|$|nsh|$|pagp|$|oke|$|semg|$|tge|$|enb|$|ipplf|$|ppl|$|key|$|bip|$|too…|https|:|//t.co/lniawbtblf|rt|seekingalpha|``|$|abg|$|algn|$|ba|$|dltr|$|htht|$|kor|$|nsp|$|spi|$|uri|https|:|//t.co/yxn1f1x93i|''|rt|seekingalpha|``|$|aan|$|aapl|$|abbv|$|adm|$|afl|$|all|$|am|$|amgp|$|amp|$|amt|$|andx|$|aon|$|ao|$|apd|$|apog|$|aqn|$|avgo|$|ay…|https|:|//t.co/qqhydckkjr|rt|seekingalpha|``|$|ar|$|cgc|$|dave|$|gnc|$|hsi|$|icon|$|kmb|$|m|$|pep|$|pg|$|rrc|$|smrt|$|wtw|https|:|//t.co/nlewsj1ez|''|q2|$|qtwo|versus|ansi|$|anss|critic|review|https|:|//t.co/b3uyb4f1qa|head-to-head|review|:|q2|$|qtwo|vs.|ansi|$|anss|https|:|//t.co/2detioabgm|$|aon|@|apollominer|–|excel|infrastructur|and|ground|condit|confirm|at|histor|salau|#|tungsten|mine|https|:|//t.co/0exvmujfva|rt|@|themotleyfool|:|2|true-blu|tech|play|plus|a|tooth|tech|play|.|and|all|3|look|undervalu|.|$|ibm|$|mu|$|xray|https|:|//t.co/lrxgdgg0nl|head|to|head|review|:|mettler-toledo|intern|$|mtd|&|amp|;|fluidigm|$|fldm|https|:|//t.co/lyk912kyxi|dentspli|sirona|$|xray|upgrad|to|hold|at|bidaskclub|https|:|//t.co/ixdxf7ydpo|dentspli|sirona|$|xray|upgrad|at|bidaskclub|https|:|//t.co/jmfwmjxpyz|rt|@|brand_uk|:|$|aon|@|apollominer|–|excel|infrastructur|and|ground|condit|confirm|at|histor|salau|#|tungsten|mine|https|:|//t.…|zack|invest|research|upgrad|torchmark|$|tmk|to|buy|https|:|//t.co/bvasedwm4l|zack|invest|research|upgrad|torchmark|$|tmk|to|buy|https|:|//t.co/yranxfv7bq|$|aon|@|apollominer|provid|yet|more|compel|evid|that|salau|is|one|of|the|highest|qualiti|#|tungsten|#|mines…|https|:|//t.co/vtbzpymt3p|critic|survey|:|nelnet|$|nni|vs.|slm|$|slm|https|:|//t.co/spbsrelqcr|rt|@|iregmedoffici|:|our|goal|is|maximum|effici|with|minim|side|effect|!|prof.|dr.|ulrich|schneider|$|irm|#|health|#|blockchain|#|bitcoi…|laboratori|corp.|of|america|$|lh|versus|invita|$|nvta|critic|contrast|https|:|//t.co/6kkkodsqwa|compar|c.h|.|robinson|worldwid|$|chrw|&|amp|;|expeditor|intern|of|washington|$|expd|https|:|//t.co/xull9cysk|well|fargo|&|amp|;|co|analyst|give|slm|$|slm|a|$|14.00|price|target|https|:|//t.co/bqdu2fcxko|slm|$|slm|pt|set|at|$|14.00|by|well|fargo|&|amp|;|co|https|:|//t.co/jwxmquwyck|stericycl|$|srcl|stock|rate|upgrad|by|zack|invest|research|https|:|//t.co/lmjvt2equt|stericycl|$|srcl|lift|to|“|buy|”|at|zack|invest|research|https|:|//t.co/dvt9pzn5pt|btw|estim|#|earn|per|share|for|$|ip|is|$|1.14|it|'s|2.18|%|of|the|current|price|https|:|//t.co/uuif7izdoj|mettler-toledo|intern|$|mtd|&|amp|;|quanterix|$|qtrx|head-to-head|analysi|https|:|//t.co/jvgza2xiwn|rt|@|beep_emin|:|$|emn|emin|token|fuel|for|beepbeep|nation|:|a|decentr|help|economi|on|a|mobil|applic|.|you|can|get|a|ri…|rt|@|beep_emin|:|the|$|emn|emin|token|which|fuel|the|beepbeep|nation|app|will|be|avail|for|purchas|on|wednesday|june|27th|2018|.|re…|head-to-head|comparison|:|quanterix|$|qtrx|vs.|mettler-toledo|intern|$|mtd|https|:|//t.co/cfcywwjb6d|nuanc|communic|$|nuan|upgrad|by|valuengin|to|“|sell|”|https|:|//t.co/jp1nx6fvjd\""
      ]
     },
     "execution_count": 31,
     "metadata": {},
     "output_type": "execute_result"
    }
   ],
   "source": [
    "from nltk.stem.snowball import SnowballStemmer\n",
    "\n",
    "stemmer = SnowballStemmer(\"english\")\n",
    "stemmed = [stemmer.stem(word) for word in word_tokens]\n",
    "'|'.join(stemmed)"
   ]
  },
  {
   "cell_type": "code",
   "execution_count": 32,
   "metadata": {
    "id": "ZyUMGKpbemqx"
   },
   "outputs": [],
   "source": [
    "def analyse_stem(stemmer, original_):\n",
    "  length_dist_original = []\n",
    "  length_dist_stemmed = []\n",
    "  for original in original_:\n",
    "    original = nltk.word_tokenize(original)\n",
    "    stemmed = [stemmer.stem(word) for word in original]\n",
    "    #print(\"Number of distinct tokens for original\", len(set(original)))\n",
    "    #print(\"Number of distinct tokens for stemmed\", len(set(stemmed)))\n",
    "    length_dist_original.extend([len(word) for word in original])\n",
    "    length_dist_stemmed.extend([len(word) for word in stemmed])\n",
    "\n",
    "  print(\"Original Average:\", sum(length_dist_original)/len(length_dist_original))\n",
    "  print(\"Stemmed Average:\", sum(length_dist_stemmed)/len(length_dist_stemmed))\n",
    "\n",
    "  plt.hist(length_dist_original, bins=20, alpha=0.5, label='original')\n",
    "  plt.hist(length_dist_stemmed, bins=20, alpha=0.5, label='stemmed')\n",
    "  plt.legend()\n",
    "  plt.xlabel('Length of a token in number of characters')\n",
    "  plt.ylabel('Number of tokens')   \n",
    "  plt.title('Effect of stemming on Finance Tweets tokens')"
   ]
  },
  {
   "cell_type": "code",
   "execution_count": 33,
   "metadata": {
    "colab": {
     "base_uri": "https://localhost:8080/",
     "height": 329
    },
    "executionInfo": {
     "elapsed": 1661,
     "status": "ok",
     "timestamp": 1604178680921,
     "user": {
      "displayName": "Cheng Hui Yao",
      "photoUrl": "",
      "userId": "11660890683470786146"
     },
     "user_tz": -480
    },
    "id": "LvknLGNFtCCM",
    "outputId": "a07ed2b6-b25b-4c3c-ab7c-8fd4b040b571"
   },
   "outputs": [
    {
     "name": "stdout",
     "output_type": "stream",
     "text": [
      "Original Average: 4.148849402854646\n",
      "Stemmed Average: 3.888435770463152\n"
     ]
    },
    {
     "data": {
      "image/png": "[encoded data removed]",
      "text/plain": [
       "<Figure size 432x288 with 1 Axes>"
      ]
     },
     "metadata": {
      "needs_background": "light"
     },
     "output_type": "display_data"
    }
   ],
   "source": [
    "analyse_stem(stemmer, word_tokens)"
   ]
  },
  {
   "cell_type": "markdown",
   "metadata": {
    "id": "BpcAySketCCV"
   },
   "source": [
    "### 3b. Sentence Segmentation"
   ]
  },
  {
   "cell_type": "code",
   "execution_count": 34,
   "metadata": {
    "executionInfo": {
     "elapsed": 1099,
     "status": "ok",
     "timestamp": 1604321424308,
     "user": {
      "displayName": "Shawn Chen",
      "photoUrl": "https://lh5.googleusercontent.com/-K-2N4FzP3ps/AAAAAAAAAAI/AAAAAAAACVg/V77Cm3VAsG8/s64/photo.jpg",
      "userId": "14192269276493206783"
     },
     "user_tz": -480
    },
    "id": "yBcPYzFltCCX"
   },
   "outputs": [],
   "source": [
    "sent_tokens = nltk.sent_tokenize(df3.iloc[3])"
   ]
  },
  {
   "cell_type": "code",
   "execution_count": 35,
   "metadata": {
    "colab": {
     "base_uri": "https://localhost:8080/"
    },
    "executionInfo": {
     "elapsed": 837,
     "status": "ok",
     "timestamp": 1604321425837,
     "user": {
      "displayName": "Shawn Chen",
      "photoUrl": "https://lh5.googleusercontent.com/-K-2N4FzP3ps/AAAAAAAAAAI/AAAAAAAACVg/V77Cm3VAsG8/s64/photo.jpg",
      "userId": "14192269276493206783"
     },
     "user_tz": -480
    },
    "id": "N_dJPtMvtCCi",
    "outputId": "376b6bf3-565e-4af5-bca3-7e428b6a3704"
   },
   "outputs": [
    {
     "data": {
      "text/plain": [
       "[25]"
      ]
     },
     "execution_count": 35,
     "metadata": {},
     "output_type": "execute_result"
    }
   ],
   "source": [
    "[len(nltk.word_tokenize(sent_token)) for sent_token in sent_tokens]"
   ]
  },
  {
   "cell_type": "markdown",
   "metadata": {
    "id": "9uYZMmcdtCCq"
   },
   "source": [
    "### 3c. POS Tagging"
   ]
  },
  {
   "cell_type": "code",
   "execution_count": 36,
   "metadata": {
    "colab": {
     "base_uri": "https://localhost:8080/"
    },
    "executionInfo": {
     "elapsed": 1861,
     "status": "ok",
     "timestamp": 1604321432084,
     "user": {
      "displayName": "Shawn Chen",
      "photoUrl": "https://lh5.googleusercontent.com/-K-2N4FzP3ps/AAAAAAAAAAI/AAAAAAAACVg/V77Cm3VAsG8/s64/photo.jpg",
      "userId": "14192269276493206783"
     },
     "user_tz": -480
    },
    "id": "1LfLMTHLnGSr",
    "outputId": "403d99fc-efe8-4ea2-c779-aab39e9ee3d8"
   },
   "outputs": [
    {
     "name": "stderr",
     "output_type": "stream",
     "text": [
      "[nltk_data] Downloading package averaged_perceptron_tagger to\n",
      "[nltk_data]     /home/shawn/nltk_data...\n",
      "[nltk_data]   Package averaged_perceptron_tagger is already up-to-\n",
      "[nltk_data]       date!\n"
     ]
    },
    {
     "data": {
      "text/plain": [
       "True"
      ]
     },
     "execution_count": 36,
     "metadata": {},
     "output_type": "execute_result"
    }
   ],
   "source": [
    "nltk.download('averaged_perceptron_tagger')"
   ]
  },
  {
   "cell_type": "code",
   "execution_count": 37,
   "metadata": {
    "colab": {
     "base_uri": "https://localhost:8080/"
    },
    "executionInfo": {
     "elapsed": 1138,
     "status": "ok",
     "timestamp": 1604321438626,
     "user": {
      "displayName": "Shawn Chen",
      "photoUrl": "https://lh5.googleusercontent.com/-K-2N4FzP3ps/AAAAAAAAAAI/AAAAAAAACVg/V77Cm3VAsG8/s64/photo.jpg",
      "userId": "14192269276493206783"
     },
     "user_tz": -480
    },
    "id": "eyVW8LE8tCCs",
    "outputId": "a4073b70-25b9-4c83-c5bd-a24f916e9b6a"
   },
   "outputs": [
    {
     "data": {
      "text/plain": [
       "[('Barry', 'NNP'),\n",
       " ('Silbert', 'NNP'),\n",
       " ('is', 'VBZ'),\n",
       " ('extremely', 'RB'),\n",
       " ('optimistic', 'JJ'),\n",
       " ('on', 'IN'),\n",
       " ('bitcoin', 'NN'),\n",
       " ('--', ':'),\n",
       " ('but', 'CC'),\n",
       " ('predicts', 'VBZ'),\n",
       " ('that', 'DT'),\n",
       " ('99', 'CD'),\n",
       " ('%', 'NN'),\n",
       " ('of', 'IN'),\n",
       " ('new', 'JJ'),\n",
       " ('crypto', 'NN'),\n",
       " ('entrants', 'NNS'),\n",
       " ('are', 'VBP'),\n",
       " ('“', 'JJ'),\n",
       " ('going', 'VBG'),\n",
       " ('to', 'TO'),\n",
       " ('zero…', 'VB'),\n",
       " ('https', 'NN'),\n",
       " (':', ':'),\n",
       " ('//t.co/mGMVo2cZgY', 'NN')]"
      ]
     },
     "execution_count": 37,
     "metadata": {},
     "output_type": "execute_result"
    }
   ],
   "source": [
    "word_tokens = nltk.word_tokenize(sent_tokens[0])\n",
    "nltk.pos_tag(word_tokens)"
   ]
  },
  {
   "cell_type": "markdown",
   "metadata": {
    "id": "G2Y2wyEN-CIO"
   },
   "source": [
    "##4. Sentence Segmentation Analysis for all 3 datasets"
   ]
  },
  {
   "cell_type": "code",
   "execution_count": 38,
   "metadata": {
    "id": "hFv-AcQ22N2b"
   },
   "outputs": [],
   "source": [
    "sent_length_1 = []\n",
    "for index, row in df1.iterrows():\n",
    "  sent_length_1.extend([len(nltk.word_tokenize(sent_token)) for sent_token in nltk.sent_tokenize(row.abstract)])"
   ]
  },
  {
   "cell_type": "code",
   "execution_count": 39,
   "metadata": {
    "id": "3rqhmbUzI6Qf"
   },
   "outputs": [],
   "source": [
    "sent_length_2 = []\n",
    "for index, row in df2.iterrows():\n",
    "  sent_length_2.extend([len(nltk.word_tokenize(sent_token)) for sent_token in nltk.sent_tokenize(row.Math_Eqns)])"
   ]
  },
  {
   "cell_type": "code",
   "execution_count": 45,
   "metadata": {
    "id": "FGC2se8ONtGm"
   },
   "outputs": [],
   "source": [
    "sent_length_3 = []\n",
    "for index, row in financial_tweets.head(20).iterrows():\n",
    "  sent_length_3.extend([len(nltk.word_tokenize(sent_token)) for sent_token in nltk.sent_tokenize(row.text)])"
   ]
  },
  {
   "cell_type": "code",
   "execution_count": null,
   "metadata": {
    "colab": {
     "base_uri": "https://localhost:8080/",
     "height": 363
    },
    "executionInfo": {
     "elapsed": 2328,
     "status": "ok",
     "timestamp": 1603704942751,
     "user": {
      "displayName": "Shawn Chen",
      "photoUrl": "https://lh5.googleusercontent.com/-K-2N4FzP3ps/AAAAAAAAAAI/AAAAAAAACVg/V77Cm3VAsG8/s64/photo.jpg",
      "userId": "14192269276493206783"
     },
     "user_tz": -480
    },
    "id": "boRB9cWGFPYA",
    "outputId": "03ca32b5-a212-4b3e-c3eb-6fbe2b44967c"
   },
   "outputs": [
    {
     "name": "stdout",
     "output_type": "stream",
     "text": [
      "Dataset 1: 25.62162162162162\n",
      "Dataset 2: 15.476190476190476\n",
      "Dataset 3: 27.51063829787234\n"
     ]
    },
    {
     "data": {
      "text/plain": [
       "Text(0.5, 1.0, 'Effect of sentence segmentation on different datasets')"
      ]
     },
     "execution_count": 114,
     "metadata": {
      "tags": []
     },
     "output_type": "execute_result"
    },
    {
     "data": {
      "image/png": "[encoded data removed]",
      "text/plain": [
       "<Figure size 432x288 with 1 Axes>"
      ]
     },
     "metadata": {
      "needs_background": "light",
      "tags": []
     },
     "output_type": "display_data"
    }
   ],
   "source": [
    "print(\"Dataset 1:\", sum(sent_length_1)/len(sent_length_1))\n",
    "print(\"Dataset 2:\", sum(sent_length_2)/len(sent_length_2))\n",
    "print(\"Dataset 3:\", sum(sent_length_3)/len(sent_length_3))\n",
    "\n",
    "plt.hist(sent_length_1, bins=10, alpha=0.5, label='CORD-19', density=True)\n",
    "plt.hist(sent_length_2, bins=10, alpha=0.5, label='ASCII Math', density=True)\n",
    "plt.hist(sent_length_3, bins=10, alpha=0.5, label='Financial Tweets', density=True, range=[0,100])\n",
    "plt.legend()\n",
    "plt.xlabel('Length of a sentence in number of tokens')\n",
    "plt.ylabel('Percentage of sentenches')   \n",
    "plt.title('Effect of sentence segmentation on different datasets')"
   ]
  }
 ],
 "metadata": {
  "colab": {
   "authorship_tag": "ABX9TyMrLIK/PLzZ0BBRgYEjwV1r",
   "collapsed_sections": [],
   "mount_file_id": "1tv6FXtlqXgBoP6ekt7XVSZS-_RqAVL31",
   "name": "NLP Assignment 1.ipynb",
   "provenance": [],
   "toc_visible": true
  },
  "kernelspec": {
   "display_name": "Python 3",
   "language": "python",
   "name": "python3"
  },
  "language_info": {
   "codemirror_mode": {
    "name": "ipython",
    "version": 3
   },
   "file_extension": ".py",
   "mimetype": "text/x-python",
   "name": "python",
   "nbconvert_exporter": "python",
   "pygments_lexer": "ipython3",
   "version": "3.7.9"
  }
 },
 "nbformat": 4,
 "nbformat_minor": 1
}
