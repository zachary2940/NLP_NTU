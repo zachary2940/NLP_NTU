{
 "cells": [
  {
   "cell_type": "markdown",
   "metadata": {
    "id": "bmgnxJD476PO"
   },
   "source": [
    "# 0. Import dataset\n",
    "\n",
    "To obtain the reviews, we scraped the Enola Holmes movie (2020) reviews from imdb.com into a csv file, which is imported into this notebook as the dataset"
   ]
  },
  {
   "cell_type": "code",
   "execution_count": 1,
   "metadata": {
    "colab": {
     "base_uri": "https://localhost:8080/"
    },
    "executionInfo": {
     "elapsed": 842,
     "status": "ok",
     "timestamp": 1604066831134,
     "user": {
      "displayName": "Ng Kai Chin",
      "photoUrl": "",
      "userId": "18389502227870177235"
     },
     "user_tz": -480
    },
    "id": "B7eD8Vgf-PLu",
    "outputId": "62e9a2f5-6974-41d0-9eee-b4e80132ea2b"
   },
   "outputs": [
    {
     "name": "stderr",
     "output_type": "stream",
     "text": [
      "[nltk_data] Downloading package vader_lexicon to\n",
      "[nltk_data]     C:\\Users\\kai\\AppData\\Roaming\\nltk_data...\n",
      "[nltk_data]   Package vader_lexicon is already up-to-date!\n"
     ]
    }
   ],
   "source": [
    "# Import necessary libraries\n",
    "\n",
    "import matplotlib.pyplot as plt\n",
    "import nltk\n",
    "nltk.download('vader_lexicon')\n",
    "from nltk.sentiment.vader import SentimentIntensityAnalyzer\n",
    "import numpy as np\n",
    "import numpy as numpy\n",
    "import pandas as pd\n",
    "import re\n",
    "import spacy\n",
    "from spacy import displacy"
   ]
  },
  {
   "cell_type": "code",
   "execution_count": 2,
   "metadata": {
    "colab": {
     "base_uri": "https://localhost:8080/"
    },
    "executionInfo": {
     "elapsed": 5745,
     "status": "ok",
     "timestamp": 1604066523109,
     "user": {
      "displayName": "Ng Kai Chin",
      "photoUrl": "",
      "userId": "18389502227870177235"
     },
     "user_tz": -480
    },
    "id": "71RQeBDNCbIc",
    "outputId": "4f75a3d6-2dc1-4bf2-f288-3a9b38e920cc"
   },
   "outputs": [
    {
     "name": "stdout",
     "output_type": "stream",
     "text": [
      "                                                       review_title  \\\n",
      "user_name                                                             \n",
      "jesamazinghawley                        \"Perfect for a 15 yro girl\"   \n",
      "faolanredwolf     \"Not for Sherlock Holmes fans, but not bad eit...   \n",
      "korpake                        \"It could have been so much more...\"   \n",
      "zekehardrock               \"Am I the only man who love this movie?\"   \n",
      "robertnees        \"Jiu-Jitsu in the early 1900s, Yes, females an...   \n",
      "\n",
      "                        review_date  \\\n",
      "user_name                             \n",
      "jesamazinghawley  25 September 2020   \n",
      "faolanredwolf     24 September 2020   \n",
      "korpake           23 September 2020   \n",
      "zekehardrock      23 September 2020   \n",
      "robertnees        24 September 2020   \n",
      "\n",
      "                                                        review_text  rating  \n",
      "user_name                                                                    \n",
      "jesamazinghawley  \"This is the movie I wish I had at 15. This is...       8  \n",
      "faolanredwolf     \"Enola Holmes is absolutely wonderful, quirky ...       6  \n",
      "korpake           \"Interesting premise, interesting setting, goo...       5  \n",
      "zekehardrock      \"Mille Bobby Brown is excellent, Sam Claflin i...       9  \n",
      "robertnees        \"For the other reviewers that stated things li...       6  \n",
      "\n",
      "No. of Samples:  1246\n"
     ]
    }
   ],
   "source": [
    "# Preliminary analysis of dataset\n",
    "\n",
    "df = pd.read_csv('../datasets/imdb_enola_holmes/imdb_enola_holmes_reviews.csv', index_col='user_name')\n",
    "print(df.head())\n",
    "print()\n",
    "print('No. of Samples: ', df.shape[0])"
   ]
  },
  {
   "cell_type": "markdown",
   "metadata": {
    "id": "Q5J5cDoJkd-K"
   },
   "source": [
    "# 1. Data Preprocessing\n",
    "\n",
    "Samples that have too little text is eliminated, and the data is evenly sampled across rating to obtain a wide spread of vocabulary."
   ]
  },
  {
   "cell_type": "code",
   "execution_count": 3,
   "metadata": {
    "colab": {
     "base_uri": "https://localhost:8080/",
     "height": 515
    },
    "executionInfo": {
     "elapsed": 6506,
     "status": "ok",
     "timestamp": 1604066523877,
     "user": {
      "displayName": "Ng Kai Chin",
      "photoUrl": "",
      "userId": "18389502227870177235"
     },
     "user_tz": -480
    },
    "id": "OpnpoOkYlJzW",
    "outputId": "64125670-112e-4de1-ed5c-4a2af8abbae0"
   },
   "outputs": [
    {
     "data": {
      "text/plain": [
       "Text(0, 0.5, 'Number of Reviews')"
      ]
     },
     "execution_count": 3,
     "metadata": {},
     "output_type": "execute_result"
    },
    {
     "data": {
      "image/png": "[encoded data removed]",
      "text/plain": [
       "<Figure size 576x576 with 1 Axes>"
      ]
     },
     "metadata": {
      "needs_background": "light"
     },
     "output_type": "display_data"
    }
   ],
   "source": [
    "fig, ax = plt.subplots(figsize=(8,8))\n",
    "lengths = df['review_text'].str.len().value_counts().index.to_list()\n",
    "counts = df['review_text'].str.len().value_counts().to_list()\n",
    "plt.plot(lengths, counts, 'r+')\n",
    "plt.xlabel('Length of Review')\n",
    "plt.ylabel('Number of Reviews')"
   ]
  },
  {
   "cell_type": "code",
   "execution_count": 4,
   "metadata": {
    "colab": {
     "base_uri": "https://localhost:8080/"
    },
    "executionInfo": {
     "elapsed": 6499,
     "status": "ok",
     "timestamp": 1604066523878,
     "user": {
      "displayName": "Ng Kai Chin",
      "photoUrl": "",
      "userId": "18389502227870177235"
     },
     "user_tz": -480
    },
    "id": "cg9TsXYtnnyo",
    "outputId": "d04f8520-f58c-430b-bd8e-e7c52f8348fa"
   },
   "outputs": [
    {
     "name": "stdout",
     "output_type": "stream",
     "text": [
      "Remaining no. of Samples:  663\n"
     ]
    }
   ],
   "source": [
    "# Drop reviews that are less than 300 characters long\n",
    "\n",
    "df = df.drop(df[df['review_text'].map(len) < 300].index)\n",
    "print('Remaining no. of Samples: ', df.shape[0])"
   ]
  },
  {
   "cell_type": "code",
   "execution_count": 5,
   "metadata": {
    "colab": {
     "base_uri": "https://localhost:8080/",
     "height": 497
    },
    "executionInfo": {
     "elapsed": 6492,
     "status": "ok",
     "timestamp": 1604066523879,
     "user": {
      "displayName": "Ng Kai Chin",
      "photoUrl": "",
      "userId": "18389502227870177235"
     },
     "user_tz": -480
    },
    "id": "0y7W3d2aUPm4",
    "outputId": "a31cfb74-bd77-415c-ff74-532e2b47f30a"
   },
   "outputs": [
    {
     "data": {
      "image/png": "[encoded data removed]",
      "text/plain": [
       "<Figure size 576x576 with 1 Axes>"
      ]
     },
     "metadata": {
      "needs_background": "light"
     },
     "output_type": "display_data"
    }
   ],
   "source": [
    "# Visualize Spread of Data\n",
    "\n",
    "fig, ax = plt.subplots(figsize=(8,8))\n",
    "bars = ax.bar(range(10), df['rating'].value_counts().to_list())\n",
    "ax.set_xticks(np.arange(10))\n",
    "ax.set_xticklabels(np.arange(1,11))\n",
    "plt.xlabel('Rating of Review')\n",
    "plt.ylabel('Number of Reviews')\n",
    "\n",
    "for rect in bars:\n",
    "        height = rect.get_height()\n",
    "        ax.annotate('{:d}'.format(height),\n",
    "                    xy=(rect.get_x() + rect.get_width() / 2, height),\n",
    "                    xytext=(0, 3),  # 3 points vertical offset\n",
    "                    textcoords=\"offset points\",\n",
    "                    ha='center', va='bottom')\n"
   ]
  },
  {
   "cell_type": "code",
   "execution_count": 6,
   "metadata": {
    "id": "TFqDkndQVpoX"
   },
   "outputs": [],
   "source": [
    "# Sampling dataset\n",
    "# No. of samples required = 30\n",
    "# No. of ratings = 10\n",
    "# sample size = 30/10 = 3 for each rating\n",
    "\n",
    "df_sampled = df.groupby('rating', group_keys = False).apply(lambda x: x.sample(3, random_state=1))\n",
    "\n",
    "# save a copy of df_sampled\n",
    "df_sampled.to_csv('../datasets/imdb_enola_holmes/imdb_enola_holmes_sampled_reviews.csv')"
   ]
  },
  {
   "cell_type": "markdown",
   "metadata": {
    "id": "BflJzJVXX6xz"
   },
   "source": [
    "# 2. Noun-Adjective Pair Identifier\n",
    "\n",
    "To identify noun-adjective pairs, we have to visualize each sentence's dependency tree."
   ]
  },
  {
   "cell_type": "code",
   "execution_count": 7,
   "metadata": {
    "colab": {
     "base_uri": "https://localhost:8080/"
    },
    "executionInfo": {
     "elapsed": 7744,
     "status": "ok",
     "timestamp": 1604066525140,
     "user": {
      "displayName": "Ng Kai Chin",
      "photoUrl": "",
      "userId": "18389502227870177235"
     },
     "user_tz": -480
    },
    "id": "AcdEKxgYYFN4",
    "outputId": "423f5d2b-f780-44f8-e53a-cc075ceddde8"
   },
   "outputs": [],
   "source": [
    "# First, we need to identify noun phrases\n",
    "# For this study: noun phrases = nouns or compound nouns\n",
    "# Pos E.g.: Millie Bobby Brown\n",
    "# Neg E.g.: the cat ('the' is a determinant)\n",
    "\n",
    "# Then, we identify the adjective/adjectival phrases\n",
    "nlp = spacy.load(\"en_core_web_sm\")\n",
    "doc = nlp(df['review_text'][10])\n",
    "\n",
    "# Retrieve adj phrase, given token is an adjective (amod)\n",
    "def adj_phrase(token):\n",
    "  amod = token.text\n",
    "  if token.n_lefts == 0 and token.n_rights == 0:\n",
    "    return amod\n",
    "  for left in token.lefts:\n",
    "    amod = adj_phrase(left) + ' ' + amod\n",
    "  for right in token.rights:\n",
    "    amod = amod + ' ' + adj_phrase(right)\n",
    "  return amod\n",
    "\n",
    "# Retrieve (noun/noun-phrase, adj/adj-phrase) pairs from given text\n",
    "def get_pairs(text):\n",
    "  nns = ['NOUN', 'PROPN']\n",
    "  pairs = [] # (np, adj) pairs\n",
    "  doc = nlp(text)\n",
    "  for token in doc:\n",
    "    if token.pos_ in nns:\n",
    "      if token.dep_ == 'compound' and token.head.pos_ in nns:    # Ignore nouns/proper nouns that are not the root of the noun clause\n",
    "        continue\n",
    "          \n",
    "      np = ''\n",
    "      amod = []\n",
    "\n",
    "      for child in token.children:\n",
    "        if child.dep_ == 'compound':\n",
    "          np = np + child.text + ' '\n",
    "        if child.dep_ == 'amod':\n",
    "          # print(child.text, child.dep_, child.head.text, child.head.pos_, [child for child in child.children])\n",
    "          amod.extend(re.split(' and | ,', adj_phrase(child)))\n",
    "\n",
    "      np = np + token.text\n",
    "      for mod in amod:\n",
    "        pairs.append( (np, mod) )\n",
    "  return pairs"
   ]
  },
  {
   "cell_type": "code",
   "execution_count": 8,
   "metadata": {
    "colab": {
     "base_uri": "https://localhost:8080/"
    },
    "executionInfo": {
     "elapsed": 8568,
     "status": "ok",
     "timestamp": 1604066525980,
     "user": {
      "displayName": "Ng Kai Chin",
      "photoUrl": "",
      "userId": "18389502227870177235"
     },
     "user_tz": -480
    },
    "id": "szcGfpLwsLVk",
    "outputId": "2b0688cd-90a1-470a-f43a-d8cc2d775a33"
   },
   "outputs": [],
   "source": [
    "# Get highest count of noun-adj pair\n",
    "\n",
    "pairs = []\n",
    "count_pair = {}\n",
    "for text in df_sampled['review_text']:\n",
    "  txt_pairs = get_pairs(text)\n",
    "  pairs.append(txt_pairs)\n",
    "\n",
    "  for pair in txt_pairs:\n",
    "    if pair in count_pair:\n",
    "      count_pair[pair] = count_pair[pair] + 1\n",
    "    else:\n",
    "      count_pair[pair] = 1"
   ]
  },
  {
   "cell_type": "code",
   "execution_count": 9,
   "metadata": {
    "colab": {
     "base_uri": "https://localhost:8080/"
    },
    "executionInfo": {
     "elapsed": 8561,
     "status": "ok",
     "timestamp": 1604066525980,
     "user": {
      "displayName": "Ng Kai Chin",
      "photoUrl": "",
      "userId": "18389502227870177235"
     },
     "user_tz": -480
    },
    "id": "LtMDesUsYw3L",
    "outputId": "42f37b52-824f-4521-e498-9ccb3bde41ef"
   },
   "outputs": [
    {
     "data": {
      "text/plain": [
       "{('lead', 'female'): 3,\n",
       " ('plot', 'main'): 3,\n",
       " ('things', 'stranger'): 2,\n",
       " ('fan', 'big'): 2,\n",
       " ('empowerment', 'female'): 2,\n",
       " ('actress', 'young'): 2,\n",
       " ('leads', 'strong'): 2,\n",
       " ('leads', 'female'): 2,\n",
       " ('lead', 'strong'): 2,\n",
       " ('girls', 'young'): 2}"
      ]
     },
     "execution_count": 9,
     "metadata": {},
     "output_type": "execute_result"
    }
   ],
   "source": [
    "# shows that pairs do not often occur more than once in the sampled reviews\n",
    "\n",
    "from collections import Counter\n",
    "dict(Counter(count_pair).most_common(10))"
   ]
  },
  {
   "cell_type": "code",
   "execution_count": 10,
   "metadata": {
    "colab": {
     "base_uri": "https://localhost:8080/"
    },
    "executionInfo": {
     "elapsed": 8555,
     "status": "ok",
     "timestamp": 1604066525981,
     "user": {
      "displayName": "Ng Kai Chin",
      "photoUrl": "",
      "userId": "18389502227870177235"
     },
     "user_tz": -480
    },
    "id": "dX53hzFuZULI",
    "outputId": "291c4e3a-e7a0-473b-cad5-9bccb6d45b6d"
   },
   "outputs": [
    {
     "data": {
      "text/plain": [
       "5.5"
      ]
     },
     "execution_count": 10,
     "metadata": {},
     "output_type": "execute_result"
    }
   ],
   "source": [
    "df_sampled['rating'].mean()"
   ]
  },
  {
   "cell_type": "code",
   "execution_count": 11,
   "metadata": {
    "colab": {
     "base_uri": "https://localhost:8080/"
    },
    "executionInfo": {
     "elapsed": 1915,
     "status": "ok",
     "timestamp": 1604067057753,
     "user": {
      "displayName": "Ng Kai Chin",
      "photoUrl": "",
      "userId": "18389502227870177235"
     },
     "user_tz": -480
    },
    "id": "YsHM6sytw6i9",
    "outputId": "6fefbfab-d80e-452c-93ed-d6c0bb825978"
   },
   "outputs": [
    {
     "name": "stdout",
     "output_type": "stream",
     "text": [
      "Noun-Adj Pair Ranker results:\n",
      "\n",
      "                noun        adj  intensity  rating    score\n",
      "1            success      great     0.8316     1.0  0.83160\n",
      "2         love story       cute     0.8020     1.0  0.80200\n",
      "3     cinemetography  Beautiful     0.5994     1.0  0.59940\n",
      "4      Saturday film   charming     0.5859     1.0  0.58590\n",
      "5              tonic  wonderful     0.5719     1.0  0.57190\n",
      "6                fan       huge     0.5574     1.0  0.55740\n",
      "7         propaganda     stupid    -0.6597    -0.8  0.52776\n",
      "8   propaganda movie     stupid    -0.6597    -0.8  0.52776\n",
      "9      Saturday film        fun     0.5106     1.0  0.51060\n",
      "10             movie      great     0.6249     0.8  0.49992\n",
      "\n",
      "For reference: ranking of noun-pairs by intensity alone.\n",
      "We can see that there is some variation in the rankings.\n",
      "\n",
      "                  noun     adj  intensity  abs_intensity\n",
      "258            success   great     0.8316         0.8316\n",
      "250         love story    cute     0.8020         0.8020\n",
      "186  adventure picture     fun     0.6808         0.6808\n",
      "28          propaganda  stupid    -0.6597         0.6597\n",
      "25    propaganda movie  stupid    -0.6597         0.6597\n",
      "102             actors    best     0.6369         0.6369\n",
      "103             actors    best     0.6369         0.6369\n",
      "105               part    best     0.6369         0.6369\n",
      "64             actress   great     0.6249         0.6249\n",
      "171            message   great     0.6249         0.6249\n"
     ]
    }
   ],
   "source": [
    "# Ranking:\n",
    "# Use SentimentIntensityAnalyzer to get intensity of sentiment of noun-adj pair\n",
    "# Multiply sentiment of phrase and the rating of the review to get the overall score for the ranker.\n",
    "\n",
    "sid = SentimentIntensityAnalyzer()\n",
    "scored_pairs = []\n",
    "intensity_pairs = []\n",
    "\n",
    "# normalise review ratings\n",
    "for i in df_sampled.index:\n",
    "  text = df_sampled['review_text'][i]\n",
    "  if df_sampled['rating'][i] < 6:\n",
    "    rating = (df_sampled['rating'][i] - 6)/5 \n",
    "  else:\n",
    "    rating = (df_sampled['rating'][i] - 5)/5 # scale rating between -1 and 1\n",
    "\n",
    "  for np, amod in get_pairs(text):\n",
    "    intensity = sid.polarity_scores(amod + ' ' + np)['compound']\n",
    "    # scoring algorithm: rating * intensity\n",
    "    scored_pairs.append([np, amod, intensity, rating, (rating * intensity)])\n",
    "    intensity_pairs.append([np, amod, intensity, abs(intensity)])\n",
    "\n",
    "# print results\n",
    "    \n",
    "df_pairs = pd.DataFrame(scored_pairs, columns = ['noun', 'adj', 'intensity', 'rating', 'score'])\n",
    "df_pairs.sort_values(by='score', ascending=False, inplace=True)\n",
    "df_pairs.index = numpy.arange(1, len(df_pairs) + 1)\n",
    "print(\"Noun-Adj Pair Ranker results:\")\n",
    "print()\n",
    "print(df_pairs.head(10))\n",
    "\n",
    "print()\n",
    "\n",
    "print(\"For reference: ranking of noun-pairs by intensity alone.\")\n",
    "print(\"We can see that there is some variation in the rankings.\")\n",
    "print()\n",
    "df_intensity = pd.DataFrame(intensity_pairs, columns = ['noun', 'adj', 'intensity', 'abs_intensity'])\n",
    "df_intensity.sort_values(by='abs_intensity', ascending=0, inplace=True)\n",
    "df_intensity.reset_index(drop=True)\n",
    "print(df_intensity.head(10)) "
   ]
  }
 ],
 "metadata": {
  "colab": {
   "collapsed_sections": [],
   "name": "CodieCodes.ipynb",
   "provenance": [],
   "toc_visible": true
  },
  "kernelspec": {
   "display_name": "Python 3",
   "language": "python",
   "name": "python3"
  },
  "language_info": {
   "codemirror_mode": {
    "name": "ipython",
    "version": 3
   },
   "file_extension": ".py",
   "mimetype": "text/x-python",
   "name": "python",
   "nbconvert_exporter": "python",
   "pygments_lexer": "ipython3",
   "version": "3.8.6"
  }
 },
 "nbformat": 4,
 "nbformat_minor": 4
}
